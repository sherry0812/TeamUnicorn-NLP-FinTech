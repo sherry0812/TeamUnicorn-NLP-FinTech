{
 "cells": [
  {
   "cell_type": "markdown",
   "metadata": {},
   "source": [
    "# Sentiment Analysis of comments using NaiveBayes and SVM"
   ]
  },
  {
   "cell_type": "markdown",
   "metadata": {},
   "source": [
    "## Import Libraries"
   ]
  },
  {
   "cell_type": "markdown",
   "metadata": {},
   "source": [
    "### Standard Libraries"
   ]
  },
  {
   "cell_type": "code",
   "execution_count": 1,
   "metadata": {},
   "outputs": [],
   "source": [
    "import pandas as pd\n",
    "import numpy as np\n",
    "import re"
   ]
  },
  {
   "cell_type": "markdown",
   "metadata": {},
   "source": [
    "### SKLearn Libraries"
   ]
  },
  {
   "cell_type": "code",
   "execution_count": 2,
   "metadata": {},
   "outputs": [],
   "source": [
    "# Classification models\n",
    "from sklearn.svm import SVC\n",
    "from sklearn.naive_bayes import MultinomialNB\n",
    "\n",
    "from sklearn.preprocessing import LabelEncoder\n",
    "from sklearn.feature_extraction.text import TfidfVectorizer, CountVectorizer\n",
    "from sklearn.model_selection import train_test_split, cross_val_score, GridSearchCV, RandomizedSearchCV\n",
    "from sklearn.metrics import accuracy_score"
   ]
  },
  {
   "cell_type": "markdown",
   "metadata": {},
   "source": [
    "## Load Dataset"
   ]
  },
  {
   "cell_type": "code",
   "execution_count": 3,
   "metadata": {},
   "outputs": [
    {
     "data": {
      "text/html": [
       "<div>\n",
       "<style scoped>\n",
       "    .dataframe tbody tr th:only-of-type {\n",
       "        vertical-align: middle;\n",
       "    }\n",
       "\n",
       "    .dataframe tbody tr th {\n",
       "        vertical-align: top;\n",
       "    }\n",
       "\n",
       "    .dataframe thead th {\n",
       "        text-align: right;\n",
       "    }\n",
       "</style>\n",
       "<table border=\"1\" class=\"dataframe\">\n",
       "  <thead>\n",
       "    <tr style=\"text-align: right;\">\n",
       "      <th></th>\n",
       "      <th>Unnamed: 0</th>\n",
       "      <th>post_id</th>\n",
       "      <th>is_reply</th>\n",
       "      <th>comment_message</th>\n",
       "      <th>comment_published</th>\n",
       "      <th>comment_like_count</th>\n",
       "      <th>attachment_type</th>\n",
       "      <th>Sentiments</th>\n",
       "    </tr>\n",
       "  </thead>\n",
       "  <tbody>\n",
       "    <tr>\n",
       "      <th>0</th>\n",
       "      <td>0</td>\n",
       "      <td>155027942462_10157280442467463</td>\n",
       "      <td>1</td>\n",
       "      <td>NaN</td>\n",
       "      <td>2019-06-18T00:08:26+0000</td>\n",
       "      <td>0</td>\n",
       "      <td>NaN</td>\n",
       "      <td>Neutral</td>\n",
       "    </tr>\n",
       "    <tr>\n",
       "      <th>1</th>\n",
       "      <td>1</td>\n",
       "      <td>155027942462_10157280442467463</td>\n",
       "      <td>0</td>\n",
       "      <td>worst card ever lawsuit time</td>\n",
       "      <td>2019-06-04T19:53:28+0000</td>\n",
       "      <td>6</td>\n",
       "      <td>NaN</td>\n",
       "      <td>Negative</td>\n",
       "    </tr>\n",
       "    <tr>\n",
       "      <th>2</th>\n",
       "      <td>2</td>\n",
       "      <td>155027942462_10157236349992463</td>\n",
       "      <td>0</td>\n",
       "      <td>think need hear year think bitcoin impact lot ...</td>\n",
       "      <td>2019-05-14T03:28:34+0000</td>\n",
       "      <td>0</td>\n",
       "      <td>NaN</td>\n",
       "      <td>Neutral</td>\n",
       "    </tr>\n",
       "    <tr>\n",
       "      <th>3</th>\n",
       "      <td>3</td>\n",
       "      <td>155027942462_10157174321432463</td>\n",
       "      <td>0</td>\n",
       "      <td>long take get refund monei paypal state refund...</td>\n",
       "      <td>2019-04-20T20:44:07+0000</td>\n",
       "      <td>1</td>\n",
       "      <td>NaN</td>\n",
       "      <td>Negative</td>\n",
       "    </tr>\n",
       "    <tr>\n",
       "      <th>4</th>\n",
       "      <td>4</td>\n",
       "      <td>155027942462_10157096430022463</td>\n",
       "      <td>0</td>\n",
       "      <td>realli recip heaven</td>\n",
       "      <td>2019-03-15T22:37:37+0000</td>\n",
       "      <td>0</td>\n",
       "      <td>NaN</td>\n",
       "      <td>Neutral</td>\n",
       "    </tr>\n",
       "  </tbody>\n",
       "</table>\n",
       "</div>"
      ],
      "text/plain": [
       "   Unnamed: 0                         post_id  is_reply  \\\n",
       "0           0  155027942462_10157280442467463         1   \n",
       "1           1  155027942462_10157280442467463         0   \n",
       "2           2  155027942462_10157236349992463         0   \n",
       "3           3  155027942462_10157174321432463         0   \n",
       "4           4  155027942462_10157096430022463         0   \n",
       "\n",
       "                                     comment_message  \\\n",
       "0                                                NaN   \n",
       "1                       worst card ever lawsuit time   \n",
       "2  think need hear year think bitcoin impact lot ...   \n",
       "3  long take get refund monei paypal state refund...   \n",
       "4                                realli recip heaven   \n",
       "\n",
       "          comment_published  comment_like_count attachment_type Sentiments  \n",
       "0  2019-06-18T00:08:26+0000                   0             NaN    Neutral  \n",
       "1  2019-06-04T19:53:28+0000                   6             NaN   Negative  \n",
       "2  2019-05-14T03:28:34+0000                   0             NaN    Neutral  \n",
       "3  2019-04-20T20:44:07+0000                   1             NaN   Negative  \n",
       "4  2019-03-15T22:37:37+0000                   0             NaN    Neutral  "
      ]
     },
     "execution_count": 3,
     "metadata": {},
     "output_type": "execute_result"
    }
   ],
   "source": [
    "# Read comments_withLabels.tsv (encoding is set to latin-1 because of the special characters)\n",
    "df = pd.read_csv('commentsCleaned_NV-SVM.tsv', sep='\\t')\n",
    "# Inspect df\n",
    "df.head()"
   ]
  },
  {
   "cell_type": "code",
   "execution_count": 4,
   "metadata": {},
   "outputs": [],
   "source": [
    "# Drop unnecessary columns\n",
    "df = df.drop(['Unnamed: 0'], axis=1)"
   ]
  },
  {
   "cell_type": "code",
   "execution_count": 5,
   "metadata": {},
   "outputs": [
    {
     "name": "stdout",
     "output_type": "stream",
     "text": [
      "<class 'pandas.core.frame.DataFrame'>\n",
      "RangeIndex: 3226 entries, 0 to 3225\n",
      "Data columns (total 7 columns):\n",
      "post_id               3226 non-null object\n",
      "is_reply              3226 non-null int64\n",
      "comment_message       3173 non-null object\n",
      "comment_published     3226 non-null object\n",
      "comment_like_count    3226 non-null int64\n",
      "attachment_type       9 non-null object\n",
      "Sentiments            3226 non-null object\n",
      "dtypes: int64(2), object(5)\n",
      "memory usage: 176.5+ KB\n"
     ]
    }
   ],
   "source": [
    "# Inspect the Dataset\n",
    "df.info()"
   ]
  },
  {
   "cell_type": "code",
   "execution_count": 6,
   "metadata": {},
   "outputs": [],
   "source": [
    "# Copy the dataframe first, then get columns: comment_message, sentiments\n",
    "df_sub = df.copy()\n",
    "df_sub = df_sub[['post_id', 'comment_message', 'Sentiments']]"
   ]
  },
  {
   "cell_type": "code",
   "execution_count": 7,
   "metadata": {},
   "outputs": [],
   "source": [
    "# Fill NA with '-'\n",
    "df_sub['comment_message'].fillna('-', inplace = True) "
   ]
  },
  {
   "cell_type": "code",
   "execution_count": 8,
   "metadata": {},
   "outputs": [
    {
     "data": {
      "text/html": [
       "<div>\n",
       "<style scoped>\n",
       "    .dataframe tbody tr th:only-of-type {\n",
       "        vertical-align: middle;\n",
       "    }\n",
       "\n",
       "    .dataframe tbody tr th {\n",
       "        vertical-align: top;\n",
       "    }\n",
       "\n",
       "    .dataframe thead th {\n",
       "        text-align: right;\n",
       "    }\n",
       "</style>\n",
       "<table border=\"1\" class=\"dataframe\">\n",
       "  <thead>\n",
       "    <tr style=\"text-align: right;\">\n",
       "      <th></th>\n",
       "      <th>post_id</th>\n",
       "      <th>comment_message</th>\n",
       "      <th>Sentiments</th>\n",
       "    </tr>\n",
       "  </thead>\n",
       "  <tbody>\n",
       "    <tr>\n",
       "      <th>0</th>\n",
       "      <td>155027942462_10157280442467463</td>\n",
       "      <td>-</td>\n",
       "      <td>Neutral</td>\n",
       "    </tr>\n",
       "    <tr>\n",
       "      <th>1</th>\n",
       "      <td>155027942462_10157280442467463</td>\n",
       "      <td>worst card ever lawsuit time</td>\n",
       "      <td>Negative</td>\n",
       "    </tr>\n",
       "    <tr>\n",
       "      <th>2</th>\n",
       "      <td>155027942462_10157236349992463</td>\n",
       "      <td>think need hear year think bitcoin impact lot ...</td>\n",
       "      <td>Neutral</td>\n",
       "    </tr>\n",
       "    <tr>\n",
       "      <th>3</th>\n",
       "      <td>155027942462_10157174321432463</td>\n",
       "      <td>long take get refund monei paypal state refund...</td>\n",
       "      <td>Negative</td>\n",
       "    </tr>\n",
       "    <tr>\n",
       "      <th>4</th>\n",
       "      <td>155027942462_10157096430022463</td>\n",
       "      <td>realli recip heaven</td>\n",
       "      <td>Neutral</td>\n",
       "    </tr>\n",
       "  </tbody>\n",
       "</table>\n",
       "</div>"
      ],
      "text/plain": [
       "                          post_id  \\\n",
       "0  155027942462_10157280442467463   \n",
       "1  155027942462_10157280442467463   \n",
       "2  155027942462_10157236349992463   \n",
       "3  155027942462_10157174321432463   \n",
       "4  155027942462_10157096430022463   \n",
       "\n",
       "                                     comment_message Sentiments  \n",
       "0                                                  -    Neutral  \n",
       "1                       worst card ever lawsuit time   Negative  \n",
       "2  think need hear year think bitcoin impact lot ...    Neutral  \n",
       "3  long take get refund monei paypal state refund...   Negative  \n",
       "4                                realli recip heaven    Neutral  "
      ]
     },
     "execution_count": 8,
     "metadata": {},
     "output_type": "execute_result"
    }
   ],
   "source": [
    "# Inspect df_sub\n",
    "df_sub.head()"
   ]
  },
  {
   "cell_type": "code",
   "execution_count": 9,
   "metadata": {},
   "outputs": [
    {
     "data": {
      "text/plain": [
       "post_id            0\n",
       "comment_message    0\n",
       "Sentiments         0\n",
       "dtype: int64"
      ]
     },
     "execution_count": 9,
     "metadata": {},
     "output_type": "execute_result"
    }
   ],
   "source": [
    "# Check for null values\n",
    "df_sub.isnull().sum()"
   ]
  },
  {
   "cell_type": "code",
   "execution_count": 10,
   "metadata": {},
   "outputs": [],
   "source": [
    "# Rename 'comment_message' to 'comment_message', 'Sentiments' to 'sentiments'\n",
    "df_sub.columns = ['post_id', 'comment_message', 'sentiments']"
   ]
  },
  {
   "cell_type": "code",
   "execution_count": 11,
   "metadata": {},
   "outputs": [
    {
     "data": {
      "text/html": [
       "<div>\n",
       "<style scoped>\n",
       "    .dataframe tbody tr th:only-of-type {\n",
       "        vertical-align: middle;\n",
       "    }\n",
       "\n",
       "    .dataframe tbody tr th {\n",
       "        vertical-align: top;\n",
       "    }\n",
       "\n",
       "    .dataframe thead th {\n",
       "        text-align: right;\n",
       "    }\n",
       "</style>\n",
       "<table border=\"1\" class=\"dataframe\">\n",
       "  <thead>\n",
       "    <tr style=\"text-align: right;\">\n",
       "      <th></th>\n",
       "      <th>post_id</th>\n",
       "      <th>comment_message</th>\n",
       "      <th>sentiments</th>\n",
       "    </tr>\n",
       "  </thead>\n",
       "  <tbody>\n",
       "    <tr>\n",
       "      <th>0</th>\n",
       "      <td>155027942462_10157280442467463</td>\n",
       "      <td>-</td>\n",
       "      <td>Neutral</td>\n",
       "    </tr>\n",
       "    <tr>\n",
       "      <th>1</th>\n",
       "      <td>155027942462_10157280442467463</td>\n",
       "      <td>worst card ever lawsuit time</td>\n",
       "      <td>Negative</td>\n",
       "    </tr>\n",
       "    <tr>\n",
       "      <th>2</th>\n",
       "      <td>155027942462_10157236349992463</td>\n",
       "      <td>think need hear year think bitcoin impact lot ...</td>\n",
       "      <td>Neutral</td>\n",
       "    </tr>\n",
       "    <tr>\n",
       "      <th>3</th>\n",
       "      <td>155027942462_10157174321432463</td>\n",
       "      <td>long take get refund monei paypal state refund...</td>\n",
       "      <td>Negative</td>\n",
       "    </tr>\n",
       "    <tr>\n",
       "      <th>4</th>\n",
       "      <td>155027942462_10157096430022463</td>\n",
       "      <td>realli recip heaven</td>\n",
       "      <td>Neutral</td>\n",
       "    </tr>\n",
       "  </tbody>\n",
       "</table>\n",
       "</div>"
      ],
      "text/plain": [
       "                          post_id  \\\n",
       "0  155027942462_10157280442467463   \n",
       "1  155027942462_10157280442467463   \n",
       "2  155027942462_10157236349992463   \n",
       "3  155027942462_10157174321432463   \n",
       "4  155027942462_10157096430022463   \n",
       "\n",
       "                                     comment_message sentiments  \n",
       "0                                                  -    Neutral  \n",
       "1                       worst card ever lawsuit time   Negative  \n",
       "2  think need hear year think bitcoin impact lot ...    Neutral  \n",
       "3  long take get refund monei paypal state refund...   Negative  \n",
       "4                                realli recip heaven    Neutral  "
      ]
     },
     "execution_count": 11,
     "metadata": {},
     "output_type": "execute_result"
    }
   ],
   "source": [
    "# Check dataset again\n",
    "df_sub.head()"
   ]
  },
  {
   "cell_type": "code",
   "execution_count": 12,
   "metadata": {},
   "outputs": [
    {
     "data": {
      "text/plain": [
       "Negative    1461\n",
       "Neutral      885\n",
       "Positive     880\n",
       "Name: sentiments, dtype: int64"
      ]
     },
     "execution_count": 12,
     "metadata": {},
     "output_type": "execute_result"
    }
   ],
   "source": [
    "# Get the value counts for each sentiment\n",
    "df_sub['sentiments'].value_counts()"
   ]
  },
  {
   "cell_type": "markdown",
   "metadata": {},
   "source": [
    "## Train Test Split"
   ]
  },
  {
   "cell_type": "code",
   "execution_count": 13,
   "metadata": {},
   "outputs": [
    {
     "data": {
      "text/plain": [
       "((2258,), (2258,), (968,), (968,))"
      ]
     },
     "execution_count": 13,
     "metadata": {},
     "output_type": "execute_result"
    }
   ],
   "source": [
    "# Set 'comment_message as X and Y'\n",
    "X = df_sub['comment_message']\n",
    "Y = df_sub['sentiments']\n",
    "\n",
    "# Split dataset into train and test subset; 70% Train, 30% Test\n",
    "X_train, X_test, Y_train, Y_test = train_test_split(X, Y, test_size=0.3, random_state = 20)\n",
    "\n",
    "# Print shape of X_train, Y_train, X_test, Y_test\n",
    "X_train.shape, Y_train.shape, X_test.shape, Y_test.shape"
   ]
  },
  {
   "cell_type": "markdown",
   "metadata": {},
   "source": [
    "## Data Pre-processing"
   ]
  },
  {
   "cell_type": "markdown",
   "metadata": {},
   "source": [
    "### LabelEncoder"
   ]
  },
  {
   "cell_type": "code",
   "execution_count": 14,
   "metadata": {},
   "outputs": [],
   "source": [
    "# LabelEncoder\n",
    "Encoder = LabelEncoder()\n",
    "# Transform Y_train, Y_test to numerical data\n",
    "Y_train = Encoder.fit_transform(Y_train)\n",
    "Y_test = Encoder.fit_transform(Y_test)"
   ]
  },
  {
   "cell_type": "markdown",
   "metadata": {},
   "source": [
    "### Word Vectorization using TFIDF"
   ]
  },
  {
   "cell_type": "code",
   "execution_count": 15,
   "metadata": {},
   "outputs": [],
   "source": [
    "# Instantiate TfidfVectorizer\n",
    "Tfidf_vect = TfidfVectorizer(max_features=5000)\n",
    "# Fit X_train\n",
    "Tfidf_vect.fit(X_train)\n",
    "# Transform X_train, X_test\n",
    "X_train_Tfidf = Tfidf_vect.transform(X_train)\n",
    "X_test_Tfidf = Tfidf_vect.transform(X_test)"
   ]
  },
  {
   "cell_type": "markdown",
   "metadata": {},
   "source": [
    "### Word Vectorization using CountVectorizer"
   ]
  },
  {
   "cell_type": "code",
   "execution_count": 16,
   "metadata": {},
   "outputs": [],
   "source": [
    "# Instantiate CountVectorizer\n",
    "Count_vect = CountVectorizer()\n",
    "# Transform X_train\n",
    "Count_vect.fit(X_train)\n",
    "# Transform X_train, X_test\n",
    "X_train_Cvect = Count_vect.transform(X_train)\n",
    "X_test_Cvect = Count_vect.transform(X_test)"
   ]
  },
  {
   "cell_type": "markdown",
   "metadata": {},
   "source": [
    "## Sentiment Analysis - Naive Bayes"
   ]
  },
  {
   "cell_type": "markdown",
   "metadata": {},
   "source": [
    "### Using TFIDF"
   ]
  },
  {
   "cell_type": "code",
   "execution_count": 17,
   "metadata": {},
   "outputs": [
    {
     "name": "stdout",
     "output_type": "stream",
     "text": [
      "Naive Bayes using TFIDF Accuracy Score ->  74.79338842975206\n"
     ]
    }
   ],
   "source": [
    "# Instantiate MultinomialNB\n",
    "Naive = MultinomialNB(alpha=0.1)\n",
    "# Fit the training dataset on the NB classifier; using X_train_Tfidf\n",
    "Naive.fit(X_train_Tfidf, Y_train)\n",
    "# Predict the labels on validation dataset\n",
    "Y_pred_TNB = Naive.predict(X_test_Tfidf)\n",
    "# Use accuracy_score function to get the accuracy\n",
    "accuracy_NB_Tfidf = accuracy_score(Y_pred_TNB, Y_test)*100\n",
    "print('Naive Bayes using TFIDF Accuracy Score -> ', accuracy_NB_Tfidf)"
   ]
  },
  {
   "cell_type": "markdown",
   "metadata": {},
   "source": [
    "### Using CountVectorizer"
   ]
  },
  {
   "cell_type": "code",
   "execution_count": 18,
   "metadata": {},
   "outputs": [
    {
     "name": "stdout",
     "output_type": "stream",
     "text": [
      "Naive Bayes using CountVectorizer Accuracy Score ->  74.07024793388429\n"
     ]
    }
   ],
   "source": [
    "# Fit the training dataset on the NB classifier; using X_train_Cvect\n",
    "Naive.fit(X_train_Cvect, Y_train)\n",
    "# Predict the labels on validation dataset\n",
    "Y_pred_CNB = Naive.predict(X_test_Cvect)\n",
    "# Use accuracy_score function to get the accuracy\n",
    "accuracy_NB_Cvect = accuracy_score(Y_pred_CNB, Y_test)*100\n",
    "print('Naive Bayes using CountVectorizer Accuracy Score -> ', accuracy_NB_Cvect)"
   ]
  },
  {
   "cell_type": "markdown",
   "metadata": {},
   "source": [
    "## Sentiment Analysis - SVM"
   ]
  },
  {
   "cell_type": "markdown",
   "metadata": {},
   "source": [
    "### Using TFIDF"
   ]
  },
  {
   "cell_type": "code",
   "execution_count": 19,
   "metadata": {},
   "outputs": [
    {
     "name": "stdout",
     "output_type": "stream",
     "text": [
      "SVM using TFIDF Accuracy Score ->  81.50826446280992\n"
     ]
    }
   ],
   "source": [
    "# Instantiate SVC\n",
    "svm = SVC(C=1.0, kernel='linear', degree=3, gamma='auto')\n",
    "# Fit the training dataset on the svm classifier\n",
    "svm.fit(X_train_Tfidf, Y_train)\n",
    "# Predict the labels on validation dataset\n",
    "Y_pred_TSVM = svm.predict(X_test_Tfidf)\n",
    "# Use accuracy_score function to get the accuracy\n",
    "accuracy_SVM_Tfidf = accuracy_score(Y_pred_TSVM, Y_test)*100\n",
    "print('SVM using TFIDF Accuracy Score -> ', accuracy_SVM_Tfidf)"
   ]
  },
  {
   "cell_type": "markdown",
   "metadata": {},
   "source": [
    "### Using CountVectorizer"
   ]
  },
  {
   "cell_type": "code",
   "execution_count": 20,
   "metadata": {},
   "outputs": [
    {
     "name": "stdout",
     "output_type": "stream",
     "text": [
      "SVM using CountVectorizer Accuracy Score ->  81.09504132231406\n"
     ]
    }
   ],
   "source": [
    "# Fit the training dataset on the svm classifier\n",
    "svm.fit(X_train_Cvect, Y_train)\n",
    "# Predict the labels on validation dataset\n",
    "y_pred_CSVM = svm.predict(X_test_Cvect)\n",
    "# Use accuracy_score function to get the accuracy\n",
    "accuracy_SVM_Cvect = accuracy_score(y_pred_CSVM, Y_test)*100\n",
    "print('SVM using CountVectorizer Accuracy Score -> ', accuracy_SVM_Cvect)"
   ]
  },
  {
   "cell_type": "markdown",
   "metadata": {},
   "source": [
    "## Cross Validation"
   ]
  },
  {
   "cell_type": "code",
   "execution_count": 21,
   "metadata": {},
   "outputs": [
    {
     "name": "stdout",
     "output_type": "stream",
     "text": [
      "Mean Cross validated score ->  78.60935766973563\n"
     ]
    }
   ],
   "source": [
    "print('Mean Cross validated score -> ', np.mean(cross_val_score(svm, X_train_Cvect, Y_train, cv=5)*100))"
   ]
  },
  {
   "cell_type": "markdown",
   "metadata": {},
   "source": [
    "## Create DataFrame for Accuracy Scores"
   ]
  },
  {
   "cell_type": "code",
   "execution_count": 22,
   "metadata": {},
   "outputs": [],
   "source": [
    "score_dict = {'NB-CVect': pd.Series([accuracy_NB_Cvect], index=['Accuracy Score']),\n",
    "              'NB-TFIDF': pd.Series([accuracy_NB_Tfidf], index=['Accuracy Score']),\n",
    "              'SVM-CVect': pd.Series([accuracy_SVM_Cvect], index=['Accuracy Score']),\n",
    "              'SVM-TFIDF': pd.Series([accuracy_SVM_Tfidf], index=['Accuracy Score'])}\n",
    "\n",
    "scores = pd.DataFrame(score_dict)"
   ]
  },
  {
   "cell_type": "code",
   "execution_count": 23,
   "metadata": {},
   "outputs": [
    {
     "data": {
      "text/html": [
       "<div>\n",
       "<style scoped>\n",
       "    .dataframe tbody tr th:only-of-type {\n",
       "        vertical-align: middle;\n",
       "    }\n",
       "\n",
       "    .dataframe tbody tr th {\n",
       "        vertical-align: top;\n",
       "    }\n",
       "\n",
       "    .dataframe thead th {\n",
       "        text-align: right;\n",
       "    }\n",
       "</style>\n",
       "<table border=\"1\" class=\"dataframe\">\n",
       "  <thead>\n",
       "    <tr style=\"text-align: right;\">\n",
       "      <th></th>\n",
       "      <th>NB-CVect</th>\n",
       "      <th>NB-TFIDF</th>\n",
       "      <th>SVM-CVect</th>\n",
       "      <th>SVM-TFIDF</th>\n",
       "    </tr>\n",
       "  </thead>\n",
       "  <tbody>\n",
       "    <tr>\n",
       "      <th>Accuracy Score</th>\n",
       "      <td>74.070248</td>\n",
       "      <td>74.793388</td>\n",
       "      <td>81.095041</td>\n",
       "      <td>81.508264</td>\n",
       "    </tr>\n",
       "  </tbody>\n",
       "</table>\n",
       "</div>"
      ],
      "text/plain": [
       "                 NB-CVect   NB-TFIDF  SVM-CVect  SVM-TFIDF\n",
       "Accuracy Score  74.070248  74.793388  81.095041  81.508264"
      ]
     },
     "execution_count": 23,
     "metadata": {},
     "output_type": "execute_result"
    }
   ],
   "source": [
    "scores.head()"
   ]
  },
  {
   "cell_type": "markdown",
   "metadata": {},
   "source": [
    "## Save scores as scores_NB_SVM"
   ]
  },
  {
   "cell_type": "code",
   "execution_count": 24,
   "metadata": {},
   "outputs": [],
   "source": [
    "scores.to_csv('scores_NB_SVM.tsv', sep='\\t')"
   ]
  },
  {
   "cell_type": "markdown",
   "metadata": {},
   "source": [
    "-----------"
   ]
  },
  {
   "cell_type": "markdown",
   "metadata": {},
   "source": [
    "# Predict Sentiment using SVM-TFIDF"
   ]
  },
  {
   "cell_type": "code",
   "execution_count": 25,
   "metadata": {},
   "outputs": [
    {
     "data": {
      "text/html": [
       "<div>\n",
       "<style scoped>\n",
       "    .dataframe tbody tr th:only-of-type {\n",
       "        vertical-align: middle;\n",
       "    }\n",
       "\n",
       "    .dataframe tbody tr th {\n",
       "        vertical-align: top;\n",
       "    }\n",
       "\n",
       "    .dataframe thead th {\n",
       "        text-align: right;\n",
       "    }\n",
       "</style>\n",
       "<table border=\"1\" class=\"dataframe\">\n",
       "  <thead>\n",
       "    <tr style=\"text-align: right;\">\n",
       "      <th></th>\n",
       "      <th>post_id</th>\n",
       "      <th>is_reply</th>\n",
       "      <th>comment_message</th>\n",
       "      <th>comment_published</th>\n",
       "      <th>comment_like_count</th>\n",
       "      <th>attachment_type</th>\n",
       "    </tr>\n",
       "  </thead>\n",
       "  <tbody>\n",
       "    <tr>\n",
       "      <th>0</th>\n",
       "      <td>155027942462_10156535458487463</td>\n",
       "      <td>0</td>\n",
       "      <td>walmart monei card green dot effect card</td>\n",
       "      <td>2018-07-30T17:24:25+0000</td>\n",
       "      <td>0</td>\n",
       "      <td>NaN</td>\n",
       "    </tr>\n",
       "    <tr>\n",
       "      <th>1</th>\n",
       "      <td>155027942462_10156535458487463</td>\n",
       "      <td>0</td>\n",
       "      <td>b</td>\n",
       "      <td>2018-07-28T15:28:23+0000</td>\n",
       "      <td>0</td>\n",
       "      <td>NaN</td>\n",
       "    </tr>\n",
       "    <tr>\n",
       "      <th>2</th>\n",
       "      <td>155027942462_10156535458487463</td>\n",
       "      <td>0</td>\n",
       "      <td>p</td>\n",
       "      <td>2018-07-29T20:42:01+0000</td>\n",
       "      <td>0</td>\n",
       "      <td>NaN</td>\n",
       "    </tr>\n",
       "    <tr>\n",
       "      <th>3</th>\n",
       "      <td>155027942462_10156535458487463</td>\n",
       "      <td>0</td>\n",
       "      <td>specif green dot card includ walmart monei car...</td>\n",
       "      <td>2018-07-25T09:01:58+0000</td>\n",
       "      <td>0</td>\n",
       "      <td>NaN</td>\n",
       "    </tr>\n",
       "    <tr>\n",
       "      <th>4</th>\n",
       "      <td>155027942462_10156535458487463</td>\n",
       "      <td>0</td>\n",
       "      <td>b</td>\n",
       "      <td>2018-07-28T23:00:24+0000</td>\n",
       "      <td>0</td>\n",
       "      <td>NaN</td>\n",
       "    </tr>\n",
       "  </tbody>\n",
       "</table>\n",
       "</div>"
      ],
      "text/plain": [
       "                          post_id  is_reply  \\\n",
       "0  155027942462_10156535458487463         0   \n",
       "1  155027942462_10156535458487463         0   \n",
       "2  155027942462_10156535458487463         0   \n",
       "3  155027942462_10156535458487463         0   \n",
       "4  155027942462_10156535458487463         0   \n",
       "\n",
       "                                     comment_message  \\\n",
       "0           walmart monei card green dot effect card   \n",
       "1                                                  b   \n",
       "2                                                  p   \n",
       "3  specif green dot card includ walmart monei car...   \n",
       "4                                                  b   \n",
       "\n",
       "          comment_published  comment_like_count attachment_type  \n",
       "0  2018-07-30T17:24:25+0000                   0             NaN  \n",
       "1  2018-07-28T15:28:23+0000                   0             NaN  \n",
       "2  2018-07-29T20:42:01+0000                   0             NaN  \n",
       "3  2018-07-25T09:01:58+0000                   0             NaN  \n",
       "4  2018-07-28T23:00:24+0000                   0             NaN  "
      ]
     },
     "execution_count": 25,
     "metadata": {},
     "output_type": "execute_result"
    }
   ],
   "source": [
    "# Load dataset to be predicted\n",
    "df_predict = pd.read_csv('commentsCleaned_pred_NV-SVM.tsv', sep='\\t', index_col='Unnamed: 0')\n",
    "# Inspect df_noLabels\n",
    "df_predict.head()"
   ]
  },
  {
   "cell_type": "code",
   "execution_count": 26,
   "metadata": {},
   "outputs": [],
   "source": [
    "# Fill NA with '-'\n",
    "df_predict['comment_message'].fillna('-', inplace = True) "
   ]
  },
  {
   "cell_type": "code",
   "execution_count": 27,
   "metadata": {},
   "outputs": [],
   "source": [
    "# Word Vectorization using TFIDF\n",
    "X_new = Tfidf_vect.transform(df_predict['comment_message'])"
   ]
  },
  {
   "cell_type": "code",
   "execution_count": 28,
   "metadata": {},
   "outputs": [],
   "source": [
    "# Select comment_message column\n",
    "df_predict = df_predict[['post_id', 'comment_message']]"
   ]
  },
  {
   "cell_type": "code",
   "execution_count": 29,
   "metadata": {},
   "outputs": [],
   "source": [
    "# Create column predict_sentiment\n",
    "df_predict['sentiments'] = svm.predict(X_new)"
   ]
  },
  {
   "cell_type": "code",
   "execution_count": 30,
   "metadata": {},
   "outputs": [],
   "source": [
    "def sentiment_type(pred):\n",
    "    if pred == 0:\n",
    "        return 'Negative'\n",
    "    elif pred == 1:\n",
    "        return 'Neutral'\n",
    "    elif pred == 2:\n",
    "        return 'Positive'"
   ]
  },
  {
   "cell_type": "code",
   "execution_count": 31,
   "metadata": {},
   "outputs": [],
   "source": [
    "# Convert predicted to Negative, Neutral, Positive\n",
    "df_predict['sentiments'] = df_predict['sentiments'].apply(sentiment_type)"
   ]
  },
  {
   "cell_type": "code",
   "execution_count": 32,
   "metadata": {},
   "outputs": [
    {
     "data": {
      "text/html": [
       "<div>\n",
       "<style scoped>\n",
       "    .dataframe tbody tr th:only-of-type {\n",
       "        vertical-align: middle;\n",
       "    }\n",
       "\n",
       "    .dataframe tbody tr th {\n",
       "        vertical-align: top;\n",
       "    }\n",
       "\n",
       "    .dataframe thead th {\n",
       "        text-align: right;\n",
       "    }\n",
       "</style>\n",
       "<table border=\"1\" class=\"dataframe\">\n",
       "  <thead>\n",
       "    <tr style=\"text-align: right;\">\n",
       "      <th></th>\n",
       "      <th>post_id</th>\n",
       "      <th>comment_message</th>\n",
       "      <th>sentiments</th>\n",
       "    </tr>\n",
       "  </thead>\n",
       "  <tbody>\n",
       "    <tr>\n",
       "      <th>0</th>\n",
       "      <td>155027942462_10156535458487463</td>\n",
       "      <td>walmart monei card green dot effect card</td>\n",
       "      <td>Neutral</td>\n",
       "    </tr>\n",
       "    <tr>\n",
       "      <th>1</th>\n",
       "      <td>155027942462_10156535458487463</td>\n",
       "      <td>b</td>\n",
       "      <td>Neutral</td>\n",
       "    </tr>\n",
       "    <tr>\n",
       "      <th>2</th>\n",
       "      <td>155027942462_10156535458487463</td>\n",
       "      <td>p</td>\n",
       "      <td>Neutral</td>\n",
       "    </tr>\n",
       "    <tr>\n",
       "      <th>3</th>\n",
       "      <td>155027942462_10156535458487463</td>\n",
       "      <td>specif green dot card includ walmart monei car...</td>\n",
       "      <td>Neutral</td>\n",
       "    </tr>\n",
       "    <tr>\n",
       "      <th>4</th>\n",
       "      <td>155027942462_10156535458487463</td>\n",
       "      <td>b</td>\n",
       "      <td>Neutral</td>\n",
       "    </tr>\n",
       "  </tbody>\n",
       "</table>\n",
       "</div>"
      ],
      "text/plain": [
       "                          post_id  \\\n",
       "0  155027942462_10156535458487463   \n",
       "1  155027942462_10156535458487463   \n",
       "2  155027942462_10156535458487463   \n",
       "3  155027942462_10156535458487463   \n",
       "4  155027942462_10156535458487463   \n",
       "\n",
       "                                     comment_message sentiments  \n",
       "0           walmart monei card green dot effect card    Neutral  \n",
       "1                                                  b    Neutral  \n",
       "2                                                  p    Neutral  \n",
       "3  specif green dot card includ walmart monei car...    Neutral  \n",
       "4                                                  b    Neutral  "
      ]
     },
     "execution_count": 32,
     "metadata": {},
     "output_type": "execute_result"
    }
   ],
   "source": [
    "df_predict.head()"
   ]
  },
  {
   "cell_type": "code",
   "execution_count": 33,
   "metadata": {},
   "outputs": [
    {
     "data": {
      "text/html": [
       "<div>\n",
       "<style scoped>\n",
       "    .dataframe tbody tr th:only-of-type {\n",
       "        vertical-align: middle;\n",
       "    }\n",
       "\n",
       "    .dataframe tbody tr th {\n",
       "        vertical-align: top;\n",
       "    }\n",
       "\n",
       "    .dataframe thead th {\n",
       "        text-align: right;\n",
       "    }\n",
       "</style>\n",
       "<table border=\"1\" class=\"dataframe\">\n",
       "  <thead>\n",
       "    <tr style=\"text-align: right;\">\n",
       "      <th></th>\n",
       "      <th>post_id</th>\n",
       "      <th>comment_message</th>\n",
       "      <th>sentiments</th>\n",
       "    </tr>\n",
       "  </thead>\n",
       "  <tbody>\n",
       "    <tr>\n",
       "      <th>0</th>\n",
       "      <td>155027942462_10157280442467463</td>\n",
       "      <td>-</td>\n",
       "      <td>Neutral</td>\n",
       "    </tr>\n",
       "    <tr>\n",
       "      <th>1</th>\n",
       "      <td>155027942462_10157280442467463</td>\n",
       "      <td>worst card ever lawsuit time</td>\n",
       "      <td>Negative</td>\n",
       "    </tr>\n",
       "    <tr>\n",
       "      <th>2</th>\n",
       "      <td>155027942462_10157236349992463</td>\n",
       "      <td>think need hear year think bitcoin impact lot ...</td>\n",
       "      <td>Neutral</td>\n",
       "    </tr>\n",
       "    <tr>\n",
       "      <th>3</th>\n",
       "      <td>155027942462_10157174321432463</td>\n",
       "      <td>long take get refund monei paypal state refund...</td>\n",
       "      <td>Negative</td>\n",
       "    </tr>\n",
       "    <tr>\n",
       "      <th>4</th>\n",
       "      <td>155027942462_10157096430022463</td>\n",
       "      <td>realli recip heaven</td>\n",
       "      <td>Neutral</td>\n",
       "    </tr>\n",
       "  </tbody>\n",
       "</table>\n",
       "</div>"
      ],
      "text/plain": [
       "                          post_id  \\\n",
       "0  155027942462_10157280442467463   \n",
       "1  155027942462_10157280442467463   \n",
       "2  155027942462_10157236349992463   \n",
       "3  155027942462_10157174321432463   \n",
       "4  155027942462_10157096430022463   \n",
       "\n",
       "                                     comment_message sentiments  \n",
       "0                                                  -    Neutral  \n",
       "1                       worst card ever lawsuit time   Negative  \n",
       "2  think need hear year think bitcoin impact lot ...    Neutral  \n",
       "3  long take get refund monei paypal state refund...   Negative  \n",
       "4                                realli recip heaven    Neutral  "
      ]
     },
     "execution_count": 33,
     "metadata": {},
     "output_type": "execute_result"
    }
   ],
   "source": [
    "# Concat df_sub and df_predict\n",
    "df_SVM = pd.concat([df_sub, df_predict])\n",
    "df_SVM.head()"
   ]
  },
  {
   "cell_type": "markdown",
   "metadata": {},
   "source": [
    "## Save as commentsSVM.tsv"
   ]
  },
  {
   "cell_type": "code",
   "execution_count": 34,
   "metadata": {},
   "outputs": [],
   "source": [
    "df_SVM.to_csv('commentsSVM.tsv', sep='\\t')"
   ]
  }
 ],
 "metadata": {
  "kernelspec": {
   "display_name": "Python 3",
   "language": "python",
   "name": "python3"
  },
  "language_info": {
   "codemirror_mode": {
    "name": "ipython",
    "version": 3
   },
   "file_extension": ".py",
   "mimetype": "text/x-python",
   "name": "python",
   "nbconvert_exporter": "python",
   "pygments_lexer": "ipython3",
   "version": "3.7.1"
  }
 },
 "nbformat": 4,
 "nbformat_minor": 2
}
