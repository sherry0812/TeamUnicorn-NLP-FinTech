{
 "cells": [
  {
   "cell_type": "markdown",
   "metadata": {},
   "source": [
    "# Sentiment Analysis of comments using VaderSentiment"
   ]
  },
  {
   "cell_type": "markdown",
   "metadata": {},
   "source": [
    "## Import Libraries"
   ]
  },
  {
   "cell_type": "markdown",
   "metadata": {},
   "source": [
    "### Main Libraries"
   ]
  },
  {
   "cell_type": "code",
   "execution_count": 1,
   "metadata": {},
   "outputs": [],
   "source": [
    "import pandas as pd\n",
    "import numpy as np\n",
    "import re"
   ]
  },
  {
   "cell_type": "markdown",
   "metadata": {},
   "source": [
    "### NLP Libraries"
   ]
  },
  {
   "cell_type": "code",
   "execution_count": 2,
   "metadata": {},
   "outputs": [],
   "source": [
    "# NLTK\n",
    "import nltk\n",
    "from nltk.tokenize import word_tokenize, sent_tokenize\n",
    "from nltk.corpus import stopwords\n",
    "from nltk.stem import WordNetLemmatizer\n",
    "\n",
    "# VaderSentiment\n",
    "from vaderSentiment.vaderSentiment import SentimentIntensityAnalyzer"
   ]
  },
  {
   "cell_type": "markdown",
   "metadata": {},
   "source": [
    "## Load Dataset"
   ]
  },
  {
   "cell_type": "code",
   "execution_count": 3,
   "metadata": {},
   "outputs": [
    {
     "data": {
      "text/html": [
       "<div>\n",
       "<style scoped>\n",
       "    .dataframe tbody tr th:only-of-type {\n",
       "        vertical-align: middle;\n",
       "    }\n",
       "\n",
       "    .dataframe tbody tr th {\n",
       "        vertical-align: top;\n",
       "    }\n",
       "\n",
       "    .dataframe thead th {\n",
       "        text-align: right;\n",
       "    }\n",
       "</style>\n",
       "<table border=\"1\" class=\"dataframe\">\n",
       "  <thead>\n",
       "    <tr style=\"text-align: right;\">\n",
       "      <th></th>\n",
       "      <th>Unnamed: 0</th>\n",
       "      <th>is_reply</th>\n",
       "      <th>comment_message</th>\n",
       "      <th>comment_published</th>\n",
       "      <th>comment_like_count</th>\n",
       "      <th>attachment_type</th>\n",
       "    </tr>\n",
       "  </thead>\n",
       "  <tbody>\n",
       "    <tr>\n",
       "      <th>0</th>\n",
       "      <td>0</td>\n",
       "      <td>1</td>\n",
       "      <td>Why?</td>\n",
       "      <td>2019-06-18T00:08:26+0000</td>\n",
       "      <td>0</td>\n",
       "      <td>NaN</td>\n",
       "    </tr>\n",
       "    <tr>\n",
       "      <th>1</th>\n",
       "      <td>1</td>\n",
       "      <td>0</td>\n",
       "      <td>The worst card ever it’s lawsuit time</td>\n",
       "      <td>2019-06-04T19:53:28+0000</td>\n",
       "      <td>6</td>\n",
       "      <td>NaN</td>\n",
       "    </tr>\n",
       "    <tr>\n",
       "      <th>2</th>\n",
       "      <td>2</td>\n",
       "      <td>0</td>\n",
       "      <td>I think some needs to hear this. Over the year...</td>\n",
       "      <td>2019-05-14T03:28:34+0000</td>\n",
       "      <td>0</td>\n",
       "      <td>NaN</td>\n",
       "    </tr>\n",
       "  </tbody>\n",
       "</table>\n",
       "</div>"
      ],
      "text/plain": [
       "   Unnamed: 0  is_reply                                    comment_message  \\\n",
       "0           0         1                                               Why?   \n",
       "1           1         0              The worst card ever it’s lawsuit time   \n",
       "2           2         0  I think some needs to hear this. Over the year...   \n",
       "\n",
       "          comment_published  comment_like_count attachment_type  \n",
       "0  2019-06-18T00:08:26+0000                   0             NaN  \n",
       "1  2019-06-04T19:53:28+0000                   6             NaN  \n",
       "2  2019-05-14T03:28:34+0000                   0             NaN  "
      ]
     },
     "execution_count": 3,
     "metadata": {},
     "output_type": "execute_result"
    }
   ],
   "source": [
    "# Load dataset\n",
    "df = pd.read_csv('C:/Users/cherryb/Desktop/Personal Projects/Datasets/Telus - Fintech/cleaned/commentsCleaned_VSent-TBlob.tsv', sep='\\t')\n",
    "# Inspect df\n",
    "df.head(3)"
   ]
  },
  {
   "cell_type": "markdown",
   "metadata": {},
   "source": [
    "## Sentiment Analysis"
   ]
  },
  {
   "cell_type": "code",
   "execution_count": 4,
   "metadata": {},
   "outputs": [],
   "source": [
    "# Get comment_message column, store it in df_comments\n",
    "df_comments = df.copy()\n",
    "df_comments = df_comments[['comment_message']]"
   ]
  },
  {
   "cell_type": "code",
   "execution_count": 5,
   "metadata": {},
   "outputs": [],
   "source": [
    "# Set data type to object\n",
    "df_comments['comment_message'] = df_comments['comment_message'].astype('object')"
   ]
  },
  {
   "cell_type": "code",
   "execution_count": 6,
   "metadata": {},
   "outputs": [
    {
     "data": {
      "text/plain": [
       "comment_message    0\n",
       "dtype: int64"
      ]
     },
     "execution_count": 6,
     "metadata": {},
     "output_type": "execute_result"
    }
   ],
   "source": [
    "# Check for null values\n",
    "df_comments.isnull().sum()"
   ]
  },
  {
   "cell_type": "code",
   "execution_count": 7,
   "metadata": {},
   "outputs": [],
   "source": [
    "# Create 'segment_message' column for sentence segmentation\n",
    "df_comments['segment_message'] = df_comments['comment_message'].apply(lambda list_words: sent_tokenize(list_words))"
   ]
  },
  {
   "cell_type": "code",
   "execution_count": 8,
   "metadata": {},
   "outputs": [],
   "source": [
    "SentiAnalyzer = SentimentIntensityAnalyzer()\n",
    "\n",
    "# Function to extract compound score \n",
    "def get_compound_score(sentence):\n",
    "    '''\n",
    "    Input: Sentence (Str)\n",
    "    Return: Compound score (Float)\n",
    "    This function will extract the compound score [from Polarity score] of the sentence\n",
    "    '''\n",
    "    return SentiAnalyzer.polarity_scores(sentence)['compound']"
   ]
  },
  {
   "cell_type": "code",
   "execution_count": 9,
   "metadata": {},
   "outputs": [],
   "source": [
    "# Function to get sentiment from compound score\n",
    "def get_sentiment(score):\n",
    "    '''\n",
    "    Input: Score (Int)\n",
    "    Return: Compound score (Float)\n",
    "    \n",
    "    1. positive sentiment: compound score >= 0.05\n",
    "    2. neutral sentiment: compound score > -0.05 and < 0.05\n",
    "    3. negative sentiment: compound score <= -0.05\n",
    "    '''\n",
    "    if score >= 0.05:\n",
    "        return 'Positive'\n",
    "    elif (score > -0.05) and (score < 0.05):\n",
    "        return 'Neutral'\n",
    "    else:\n",
    "        return 'Negative'"
   ]
  },
  {
   "cell_type": "code",
   "execution_count": 10,
   "metadata": {},
   "outputs": [],
   "source": [
    "# Create 'sentimen_score' column for compound score of the comment\n",
    "df_comments['sentiment_score'] = df_comments['segment_message'].apply(lambda comments: [get_compound_score(sentence) for sentence in comments])\n",
    "# Get average of the sentiment_score\n",
    "df_comments['avg_sentiment_score'] = df_comments['sentiment_score'].apply(lambda list_scores: sum(list_scores)/len(list_scores))\n",
    "# Get sentiment\n",
    "df_comments['sentiment_vader'] = df_comments['avg_sentiment_score'].apply(get_sentiment)\n",
    "\n",
    "# Drop segment_message\n",
    "df_comments = df_comments.drop(['segment_message'], axis=1)"
   ]
  },
  {
   "cell_type": "code",
   "execution_count": 11,
   "metadata": {},
   "outputs": [
    {
     "data": {
      "text/html": [
       "<div>\n",
       "<style scoped>\n",
       "    .dataframe tbody tr th:only-of-type {\n",
       "        vertical-align: middle;\n",
       "    }\n",
       "\n",
       "    .dataframe tbody tr th {\n",
       "        vertical-align: top;\n",
       "    }\n",
       "\n",
       "    .dataframe thead th {\n",
       "        text-align: right;\n",
       "    }\n",
       "</style>\n",
       "<table border=\"1\" class=\"dataframe\">\n",
       "  <thead>\n",
       "    <tr style=\"text-align: right;\">\n",
       "      <th></th>\n",
       "      <th>comment_message</th>\n",
       "      <th>sentiment_score</th>\n",
       "      <th>avg_sentiment_score</th>\n",
       "      <th>sentiment_vader</th>\n",
       "    </tr>\n",
       "  </thead>\n",
       "  <tbody>\n",
       "    <tr>\n",
       "      <th>0</th>\n",
       "      <td>Why?</td>\n",
       "      <td>[0.0]</td>\n",
       "      <td>0.000000</td>\n",
       "      <td>Neutral</td>\n",
       "    </tr>\n",
       "    <tr>\n",
       "      <th>1</th>\n",
       "      <td>The worst card ever it’s lawsuit time</td>\n",
       "      <td>[-0.7184]</td>\n",
       "      <td>-0.718400</td>\n",
       "      <td>Negative</td>\n",
       "    </tr>\n",
       "    <tr>\n",
       "      <th>2</th>\n",
       "      <td>I think some needs to hear this. Over the year...</td>\n",
       "      <td>[0.0, 0.0, 0.7783, 0.0, 0.8126, 0.5413]</td>\n",
       "      <td>0.355367</td>\n",
       "      <td>Positive</td>\n",
       "    </tr>\n",
       "    <tr>\n",
       "      <th>3</th>\n",
       "      <td>How long does it take to get refunded money, P...</td>\n",
       "      <td>[0.0, 0.0]</td>\n",
       "      <td>0.000000</td>\n",
       "      <td>Neutral</td>\n",
       "    </tr>\n",
       "    <tr>\n",
       "      <th>4</th>\n",
       "      <td>REALLY? Recipes From Heaven</td>\n",
       "      <td>[0.0, 0.5106]</td>\n",
       "      <td>0.255300</td>\n",
       "      <td>Positive</td>\n",
       "    </tr>\n",
       "  </tbody>\n",
       "</table>\n",
       "</div>"
      ],
      "text/plain": [
       "                                     comment_message  \\\n",
       "0                                               Why?   \n",
       "1              The worst card ever it’s lawsuit time   \n",
       "2  I think some needs to hear this. Over the year...   \n",
       "3  How long does it take to get refunded money, P...   \n",
       "4                        REALLY? Recipes From Heaven   \n",
       "\n",
       "                           sentiment_score  avg_sentiment_score  \\\n",
       "0                                    [0.0]             0.000000   \n",
       "1                                [-0.7184]            -0.718400   \n",
       "2  [0.0, 0.0, 0.7783, 0.0, 0.8126, 0.5413]             0.355367   \n",
       "3                               [0.0, 0.0]             0.000000   \n",
       "4                            [0.0, 0.5106]             0.255300   \n",
       "\n",
       "  sentiment_vader  \n",
       "0         Neutral  \n",
       "1        Negative  \n",
       "2        Positive  \n",
       "3         Neutral  \n",
       "4        Positive  "
      ]
     },
     "execution_count": 11,
     "metadata": {},
     "output_type": "execute_result"
    }
   ],
   "source": [
    "df_comments.head()"
   ]
  },
  {
   "cell_type": "markdown",
   "metadata": {},
   "source": [
    "## Save as comments_with_sentiment.tsv"
   ]
  },
  {
   "cell_type": "code",
   "execution_count": 12,
   "metadata": {},
   "outputs": [],
   "source": [
    "df_comments.to_csv('C:/Users/cherryb/Desktop/Personal Projects/Datasets/Telus - Fintech/results/commentsVaderSentiments.tsv', sep='\\t')"
   ]
  }
 ],
 "metadata": {
  "kernelspec": {
   "display_name": "Python 3",
   "language": "python",
   "name": "python3"
  },
  "language_info": {
   "codemirror_mode": {
    "name": "ipython",
    "version": 3
   },
   "file_extension": ".py",
   "mimetype": "text/x-python",
   "name": "python",
   "nbconvert_exporter": "python",
   "pygments_lexer": "ipython3",
   "version": "3.7.1"
  }
 },
 "nbformat": 4,
 "nbformat_minor": 2
}
