{
 "cells": [
  {
   "cell_type": "markdown",
   "metadata": {},
   "source": [
    "## Accuracy Scores"
   ]
  },
  {
   "cell_type": "markdown",
   "metadata": {},
   "source": [
    "Description: \n",
    "- Get accuracy scores of sentiments using VaderSentiment and TextBlob\n",
    "- Compare accuracy scores: VaderSentiment, TextBlob, NB, SVM"
   ]
  },
  {
   "cell_type": "markdown",
   "metadata": {},
   "source": [
    "## Import Libraries"
   ]
  },
  {
   "cell_type": "markdown",
   "metadata": {},
   "source": [
    "### Main Libraries"
   ]
  },
  {
   "cell_type": "code",
   "execution_count": 1,
   "metadata": {},
   "outputs": [],
   "source": [
    "import pandas as pd\n",
    "import numpy as np"
   ]
  },
  {
   "cell_type": "markdown",
   "metadata": {},
   "source": [
    "### Scikit-learn"
   ]
  },
  {
   "cell_type": "code",
   "execution_count": 2,
   "metadata": {},
   "outputs": [],
   "source": [
    "from sklearn.metrics import accuracy_score\n",
    "from sklearn.preprocessing import LabelEncoder"
   ]
  },
  {
   "cell_type": "markdown",
   "metadata": {},
   "source": [
    "## Load Datasets"
   ]
  },
  {
   "cell_type": "code",
   "execution_count": 3,
   "metadata": {},
   "outputs": [],
   "source": [
    "# Load labeled dataset for comments\n",
    "df_actual = pd.read_csv('C:/Users/cherryb/Desktop/Personal Projects/Datasets/Telus - Fintech/comments_withLabels.tsv', sep='\\t')\n",
    "# Load dataset from vaderSentiment\n",
    "df_vader = pd.read_csv('C:/Users/cherryb/Desktop/Personal Projects/Datasets/Telus - Fintech/results/commentsVaderSentiments.tsv', sep='\\t')\n",
    "# Load dataset from TextBlob\n",
    "df_tblob = pd.read_csv('C:/Users/cherryb/Desktop/Personal Projects/Datasets/Telus - Fintech/results/commentsTextBlobSentiment.tsv', sep='\\t')\n",
    "# Load accuracy scores of NB-SVM\n",
    "df_accuracy = pd.read_csv('C:/Users/cherryb/Desktop/Personal Projects/Datasets/Telus - Fintech/results/scores_NB_SVM.tsv', index_col='Unnamed: 0', sep='\\t')"
   ]
  },
  {
   "cell_type": "code",
   "execution_count": 4,
   "metadata": {},
   "outputs": [],
   "source": [
    "# Actual labeled is 3226 rows; Get 3226 rows for df_vader and df_tblob\n",
    "df_vader = df_vader.iloc[:3226]\n",
    "df_tblob = df_tblob.iloc[:3226]"
   ]
  },
  {
   "cell_type": "code",
   "execution_count": 5,
   "metadata": {},
   "outputs": [],
   "source": [
    "# Get column for sentiments\n",
    "actual = df_actual['Sentiments']\n",
    "pred_vader = df_vader['sentiment_vader']\n",
    "pred_tblob = df_tblob['sentiment_type']"
   ]
  },
  {
   "cell_type": "code",
   "execution_count": 6,
   "metadata": {},
   "outputs": [],
   "source": [
    "list_df = [actual, pred_vader, pred_tblob]\n",
    "\n",
    "# LabelEncoder\n",
    "LE = LabelEncoder()\n",
    "for df in list_df:\n",
    "    df = LE.fit_transform(df)"
   ]
  },
  {
   "cell_type": "markdown",
   "metadata": {},
   "source": [
    "## Accuracy score using VaderSentiment"
   ]
  },
  {
   "cell_type": "code",
   "execution_count": 7,
   "metadata": {},
   "outputs": [],
   "source": [
    "df_accuracy['VaderSentiment'] = accuracy_score(actual, pred_vader)*100\n",
    "df_accuracy['TextBlob'] = accuracy_score(actual, pred_tblob)*100"
   ]
  },
  {
   "cell_type": "code",
   "execution_count": 8,
   "metadata": {},
   "outputs": [
    {
     "data": {
      "text/html": [
       "<div>\n",
       "<style scoped>\n",
       "    .dataframe tbody tr th:only-of-type {\n",
       "        vertical-align: middle;\n",
       "    }\n",
       "\n",
       "    .dataframe tbody tr th {\n",
       "        vertical-align: top;\n",
       "    }\n",
       "\n",
       "    .dataframe thead th {\n",
       "        text-align: right;\n",
       "    }\n",
       "</style>\n",
       "<table border=\"1\" class=\"dataframe\">\n",
       "  <thead>\n",
       "    <tr style=\"text-align: right;\">\n",
       "      <th></th>\n",
       "      <th>NB-CVect</th>\n",
       "      <th>NB-TFIDF</th>\n",
       "      <th>SVM-CVect</th>\n",
       "      <th>SVM-TFIDF</th>\n",
       "      <th>VaderSentiment</th>\n",
       "      <th>TextBlob</th>\n",
       "    </tr>\n",
       "  </thead>\n",
       "  <tbody>\n",
       "    <tr>\n",
       "      <th>Accuracy Score</th>\n",
       "      <td>74.070248</td>\n",
       "      <td>74.793388</td>\n",
       "      <td>81.095041</td>\n",
       "      <td>81.508264</td>\n",
       "      <td>53.750775</td>\n",
       "      <td>49.16305</td>\n",
       "    </tr>\n",
       "  </tbody>\n",
       "</table>\n",
       "</div>"
      ],
      "text/plain": [
       "                 NB-CVect   NB-TFIDF  SVM-CVect  SVM-TFIDF  VaderSentiment  \\\n",
       "Accuracy Score  74.070248  74.793388  81.095041  81.508264       53.750775   \n",
       "\n",
       "                TextBlob  \n",
       "Accuracy Score  49.16305  "
      ]
     },
     "execution_count": 8,
     "metadata": {},
     "output_type": "execute_result"
    }
   ],
   "source": [
    "df_accuracy"
   ]
  },
  {
   "cell_type": "markdown",
   "metadata": {},
   "source": [
    "## Save as accuracyScores_all.tsv"
   ]
  },
  {
   "cell_type": "code",
   "execution_count": 9,
   "metadata": {},
   "outputs": [],
   "source": [
    "df_accuracy.to_csv('C:/Users/cherryb/Desktop/Personal Projects/Datasets/Telus - Fintech/results/accuracyScores_all.tsv', sep='\\t')"
   ]
  }
 ],
 "metadata": {
  "kernelspec": {
   "display_name": "Python 3",
   "language": "python",
   "name": "python3"
  },
  "language_info": {
   "codemirror_mode": {
    "name": "ipython",
    "version": 3
   },
   "file_extension": ".py",
   "mimetype": "text/x-python",
   "name": "python",
   "nbconvert_exporter": "python",
   "pygments_lexer": "ipython3",
   "version": "3.7.1"
  }
 },
 "nbformat": 4,
 "nbformat_minor": 2
}
