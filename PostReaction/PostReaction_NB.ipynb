{
 "cells": [
  {
   "cell_type": "markdown",
   "metadata": {},
   "source": [
    "# Prediciting Post Reaction using Naive Bayes"
   ]
  },
  {
   "cell_type": "markdown",
   "metadata": {},
   "source": [
    "## Import Libraries"
   ]
  },
  {
   "cell_type": "markdown",
   "metadata": {},
   "source": [
    "### Main Libraries"
   ]
  },
  {
   "cell_type": "code",
   "execution_count": 1,
   "metadata": {},
   "outputs": [],
   "source": [
    "import pandas as pd\n",
    "import numpy as np\n",
    "# Ignore warnings\n",
    "import warnings\n",
    "warnings.filterwarnings('ignore')"
   ]
  },
  {
   "cell_type": "markdown",
   "metadata": {},
   "source": [
    "### Scikit Learn"
   ]
  },
  {
   "cell_type": "code",
   "execution_count": 2,
   "metadata": {},
   "outputs": [],
   "source": [
    "from sklearn.naive_bayes import MultinomialNB\n",
    "from sklearn.model_selection import cross_val_score, GridSearchCV\n",
    "from sklearn.ensemble import RandomForestClassifier\n",
    "from sklearn.metrics import accuracy_score"
   ]
  },
  {
   "cell_type": "markdown",
   "metadata": {},
   "source": [
    "## Load Dataset"
   ]
  },
  {
   "cell_type": "code",
   "execution_count": 3,
   "metadata": {},
   "outputs": [],
   "source": [
    "df_train = pd.read_csv('C:/Users/cherryb/Desktop/Personal Projects/Datasets/Telus - Fintech/results/postSenti_train.tsv', index_col='Unnamed: 0', sep='\\t')\n",
    "df_test = pd.read_csv('C:/Users/cherryb/Desktop/Personal Projects/Datasets/Telus - Fintech/results/postSenti_test.tsv', index_col='Unnamed: 0', sep='\\t') "
   ]
  },
  {
   "cell_type": "code",
   "execution_count": 4,
   "metadata": {},
   "outputs": [],
   "source": [
    "# Separate features and target for training dataset\n",
    "X_train = df_train.drop(['sentiment_class'], axis=1)\n",
    "y_train = df_train['sentiment_class']"
   ]
  },
  {
   "cell_type": "code",
   "execution_count": 5,
   "metadata": {},
   "outputs": [],
   "source": [
    "# Separate features and target for testing dataset\n",
    "X_test = df_test.drop(['sentiment_class'], axis=1)\n",
    "y_test = df_test['sentiment_class']"
   ]
  },
  {
   "cell_type": "markdown",
   "metadata": {},
   "source": [
    "## Naive Bayes Classification"
   ]
  },
  {
   "cell_type": "markdown",
   "metadata": {},
   "source": [
    "### Feature selection using RandomForestClassifier--feature_importances"
   ]
  },
  {
   "cell_type": "code",
   "execution_count": 6,
   "metadata": {},
   "outputs": [],
   "source": [
    "# Instantiate RandomForestClassifier\n",
    "rf = RandomForestClassifier(random_state=35).fit(X_train, y_train)\n",
    "rf_feat_imp = rf.feature_importances_\n",
    "# Feature importance\n",
    "feature_importance = pd.DataFrame(rf_feat_imp, index=X_train.columns, columns=[\"Feat_Imp\"])"
   ]
  },
  {
   "cell_type": "code",
   "execution_count": 7,
   "metadata": {},
   "outputs": [
    {
     "data": {
      "text/html": [
       "<div>\n",
       "<style scoped>\n",
       "    .dataframe tbody tr th:only-of-type {\n",
       "        vertical-align: middle;\n",
       "    }\n",
       "\n",
       "    .dataframe tbody tr th {\n",
       "        vertical-align: top;\n",
       "    }\n",
       "\n",
       "    .dataframe thead th {\n",
       "        text-align: right;\n",
       "    }\n",
       "</style>\n",
       "<table border=\"1\" class=\"dataframe\">\n",
       "  <thead>\n",
       "    <tr style=\"text-align: right;\">\n",
       "      <th></th>\n",
       "      <th>index</th>\n",
       "      <th>Feat_Imp</th>\n",
       "    </tr>\n",
       "  </thead>\n",
       "  <tbody>\n",
       "    <tr>\n",
       "      <th>0</th>\n",
       "      <td>Topic 0</td>\n",
       "      <td>0.167904</td>\n",
       "    </tr>\n",
       "    <tr>\n",
       "      <th>1</th>\n",
       "      <td>hour_day</td>\n",
       "      <td>0.139367</td>\n",
       "    </tr>\n",
       "    <tr>\n",
       "      <th>2</th>\n",
       "      <td>Topic 1</td>\n",
       "      <td>0.109699</td>\n",
       "    </tr>\n",
       "    <tr>\n",
       "      <th>3</th>\n",
       "      <td>Topic 2</td>\n",
       "      <td>0.069233</td>\n",
       "    </tr>\n",
       "    <tr>\n",
       "      <th>4</th>\n",
       "      <td>Topic 7</td>\n",
       "      <td>0.067534</td>\n",
       "    </tr>\n",
       "    <tr>\n",
       "      <th>5</th>\n",
       "      <td>Topic 9</td>\n",
       "      <td>0.063990</td>\n",
       "    </tr>\n",
       "    <tr>\n",
       "      <th>6</th>\n",
       "      <td>Topic 5</td>\n",
       "      <td>0.060787</td>\n",
       "    </tr>\n",
       "    <tr>\n",
       "      <th>7</th>\n",
       "      <td>Topic 6</td>\n",
       "      <td>0.057733</td>\n",
       "    </tr>\n",
       "    <tr>\n",
       "      <th>8</th>\n",
       "      <td>Topic 8</td>\n",
       "      <td>0.055409</td>\n",
       "    </tr>\n",
       "    <tr>\n",
       "      <th>9</th>\n",
       "      <td>Topic 4</td>\n",
       "      <td>0.051431</td>\n",
       "    </tr>\n",
       "    <tr>\n",
       "      <th>10</th>\n",
       "      <td>Topic 3</td>\n",
       "      <td>0.049989</td>\n",
       "    </tr>\n",
       "    <tr>\n",
       "      <th>11</th>\n",
       "      <td>Promo</td>\n",
       "      <td>0.027683</td>\n",
       "    </tr>\n",
       "    <tr>\n",
       "      <th>12</th>\n",
       "      <td>Engagement</td>\n",
       "      <td>0.019446</td>\n",
       "    </tr>\n",
       "    <tr>\n",
       "      <th>13</th>\n",
       "      <td>photo</td>\n",
       "      <td>0.017574</td>\n",
       "    </tr>\n",
       "    <tr>\n",
       "      <th>14</th>\n",
       "      <td>App Update</td>\n",
       "      <td>0.016677</td>\n",
       "    </tr>\n",
       "    <tr>\n",
       "      <th>15</th>\n",
       "      <td>link</td>\n",
       "      <td>0.013923</td>\n",
       "    </tr>\n",
       "    <tr>\n",
       "      <th>16</th>\n",
       "      <td>video</td>\n",
       "      <td>0.011155</td>\n",
       "    </tr>\n",
       "    <tr>\n",
       "      <th>17</th>\n",
       "      <td>status</td>\n",
       "      <td>0.000467</td>\n",
       "    </tr>\n",
       "  </tbody>\n",
       "</table>\n",
       "</div>"
      ],
      "text/plain": [
       "         index  Feat_Imp\n",
       "0      Topic 0  0.167904\n",
       "1     hour_day  0.139367\n",
       "2      Topic 1  0.109699\n",
       "3      Topic 2  0.069233\n",
       "4      Topic 7  0.067534\n",
       "5      Topic 9  0.063990\n",
       "6      Topic 5  0.060787\n",
       "7      Topic 6  0.057733\n",
       "8      Topic 8  0.055409\n",
       "9      Topic 4  0.051431\n",
       "10     Topic 3  0.049989\n",
       "11       Promo  0.027683\n",
       "12  Engagement  0.019446\n",
       "13       photo  0.017574\n",
       "14  App Update  0.016677\n",
       "15        link  0.013923\n",
       "16       video  0.011155\n",
       "17      status  0.000467"
      ]
     },
     "execution_count": 7,
     "metadata": {},
     "output_type": "execute_result"
    }
   ],
   "source": [
    "#Sort in descending order to get Most Important to Least Important\n",
    "feature_importance.sort_values(\"Feat_Imp\",ascending=False, inplace=True)\n",
    "feature_importance.reset_index(inplace=True)\n",
    "feature_importance"
   ]
  },
  {
   "cell_type": "code",
   "execution_count": 14,
   "metadata": {},
   "outputs": [],
   "source": [
    "# Instantiate NB\n",
    "clf = MultinomialNB()\n",
    "\n",
    "# Function to get the accuracy of the model\n",
    "def get_accuracy(xtrain, ytrain, xtest, ytest):\n",
    "    clf.fit(xtrain**2, ytrain)\n",
    "    ypred = clf.predict(xtest**2)\n",
    "    return accuracy_score(ypred, ytest)*100"
   ]
  },
  {
   "cell_type": "code",
   "execution_count": 15,
   "metadata": {},
   "outputs": [],
   "source": [
    "score_dict = {}\n",
    "# Store accuracies in score_dict\n",
    "for i in range(1, len(feature_importance)):\n",
    "    features = feature_importance.iloc[:i]\n",
    "    predictor = list(features['index'])\n",
    "    key = 'top' + str(i)\n",
    "    score_dict[key] = get_accuracy(X_train[predictor], y_train, X_test[predictor], y_test)"
   ]
  },
  {
   "cell_type": "code",
   "execution_count": 16,
   "metadata": {},
   "outputs": [
    {
     "data": {
      "text/plain": [
       "{'top1': 60.204081632653065,\n",
       " 'top2': 60.204081632653065,\n",
       " 'top3': 60.204081632653065,\n",
       " 'top4': 57.14285714285714,\n",
       " 'top5': 57.6530612244898,\n",
       " 'top6': 52.04081632653062,\n",
       " 'top7': 52.55102040816326,\n",
       " 'top8': 48.97959183673469,\n",
       " 'top9': 46.93877551020408,\n",
       " 'top10': 45.40816326530612,\n",
       " 'top11': 43.36734693877551,\n",
       " 'top12': 41.3265306122449,\n",
       " 'top13': 41.3265306122449,\n",
       " 'top14': 41.83673469387755,\n",
       " 'top15': 41.83673469387755,\n",
       " 'top16': 42.3469387755102,\n",
       " 'top17': 42.3469387755102}"
      ]
     },
     "execution_count": 16,
     "metadata": {},
     "output_type": "execute_result"
    }
   ],
   "source": [
    "# Check scores to determine how many features will be used\n",
    "score_dict"
   ]
  },
  {
   "cell_type": "code",
   "execution_count": 17,
   "metadata": {},
   "outputs": [
    {
     "data": {
      "text/plain": [
       "['Topic 0', 'hour_day', 'Topic 1']"
      ]
     },
     "execution_count": 17,
     "metadata": {},
     "output_type": "execute_result"
    }
   ],
   "source": [
    "# Top 3 Feature Importance\n",
    "top_feature = feature_importance.iloc[:3]\n",
    "predictor = list(top_feature['index'])\n",
    "predictor"
   ]
  },
  {
   "cell_type": "markdown",
   "metadata": {},
   "source": [
    "### Hyperparameter Optimization using GridSearch"
   ]
  },
  {
   "cell_type": "code",
   "execution_count": 18,
   "metadata": {},
   "outputs": [],
   "source": [
    "param_grid = {'alpha': [1, 0.5, 0.1, 0.05, 0.01, 0.005],\n",
    "              'class_prior': [None],\n",
    "              'fit_prior': [True]}"
   ]
  },
  {
   "cell_type": "code",
   "execution_count": 19,
   "metadata": {},
   "outputs": [],
   "source": [
    "# Instantiate GridSearchCV\n",
    "grid_search = GridSearchCV(clf, param_grid=param_grid, cv=5)"
   ]
  },
  {
   "cell_type": "code",
   "execution_count": 20,
   "metadata": {},
   "outputs": [
    {
     "data": {
      "text/plain": [
       "GridSearchCV(cv=5, error_score='raise-deprecating',\n",
       "       estimator=MultinomialNB(alpha=1.0, class_prior=None, fit_prior=True),\n",
       "       fit_params=None, iid='warn', n_jobs=None,\n",
       "       param_grid={'alpha': [1, 0.5, 0.1, 0.05, 0.01, 0.005], 'class_prior': [None], 'fit_prior': [True]},\n",
       "       pre_dispatch='2*n_jobs', refit=True, return_train_score='warn',\n",
       "       scoring=None, verbose=0)"
      ]
     },
     "execution_count": 20,
     "metadata": {},
     "output_type": "execute_result"
    }
   ],
   "source": [
    "# Fit X_train; Squared the train dataset because the model does not accept negative values\n",
    "grid_search.fit(X_train[predictor]**2, y_train)"
   ]
  },
  {
   "cell_type": "code",
   "execution_count": 21,
   "metadata": {},
   "outputs": [
    {
     "name": "stdout",
     "output_type": "stream",
     "text": [
      "Best estimator:\n",
      "MultinomialNB(alpha=1, class_prior=None, fit_prior=True)\n",
      "Best parameters:\n",
      "{'alpha': 1, 'class_prior': None, 'fit_prior': True}\n",
      "Best score:\n",
      "0.5646606914212549\n"
     ]
    }
   ],
   "source": [
    "print(\"Best estimator:\")\n",
    "print(grid_search.best_estimator_)\n",
    "print(\"Best parameters:\")\n",
    "print(grid_search.best_params_)\n",
    "print(\"Best score:\")\n",
    "print(grid_search.best_score_)"
   ]
  },
  {
   "cell_type": "markdown",
   "metadata": {},
   "source": [
    "### Build NB Model"
   ]
  },
  {
   "cell_type": "code",
   "execution_count": 22,
   "metadata": {},
   "outputs": [],
   "source": [
    "# Instantiate NB\n",
    "NB = MultinomialNB(alpha=1, class_prior=None, fit_prior=True)\n",
    "# Fit the training dataset on the NB; Squared the test dataset because the model does not accept negative values\n",
    "NB.fit(X_train[predictor]**2, y_train)\n",
    "# Predict the labels on validation dataset\n",
    "y_pred = NB.predict(X_test[predictor]**2)"
   ]
  },
  {
   "cell_type": "markdown",
   "metadata": {},
   "source": [
    "### Evaluate NB Model"
   ]
  },
  {
   "cell_type": "code",
   "execution_count": 23,
   "metadata": {},
   "outputs": [
    {
     "data": {
      "text/html": [
       "<div>\n",
       "<style scoped>\n",
       "    .dataframe tbody tr th:only-of-type {\n",
       "        vertical-align: middle;\n",
       "    }\n",
       "\n",
       "    .dataframe tbody tr th {\n",
       "        vertical-align: top;\n",
       "    }\n",
       "\n",
       "    .dataframe thead th {\n",
       "        text-align: right;\n",
       "    }\n",
       "</style>\n",
       "<table border=\"1\" class=\"dataframe\">\n",
       "  <thead>\n",
       "    <tr style=\"text-align: right;\">\n",
       "      <th></th>\n",
       "      <th>NaiveBayes</th>\n",
       "    </tr>\n",
       "  </thead>\n",
       "  <tbody>\n",
       "    <tr>\n",
       "      <th>AccuracyScore</th>\n",
       "      <td>60.204082</td>\n",
       "    </tr>\n",
       "  </tbody>\n",
       "</table>\n",
       "</div>"
      ],
      "text/plain": [
       "               NaiveBayes\n",
       "AccuracyScore   60.204082"
      ]
     },
     "execution_count": 23,
     "metadata": {},
     "output_type": "execute_result"
    }
   ],
   "source": [
    "# Get Metrics\n",
    "accuracy = accuracy_score(y_pred, y_test)*100\n",
    "# Store metrics in dictionary\n",
    "score_dict = {'NaiveBayes': pd.Series([accuracy], index=['AccuracyScore'])}\n",
    "# Transform dictionary to df\n",
    "df_metrics = pd.DataFrame(score_dict)\n",
    "df_metrics"
   ]
  },
  {
   "cell_type": "markdown",
   "metadata": {},
   "source": [
    "## Cross Validation"
   ]
  },
  {
   "cell_type": "code",
   "execution_count": 24,
   "metadata": {},
   "outputs": [
    {
     "name": "stdout",
     "output_type": "stream",
     "text": [
      "Mean Cross validated score ->  56.46681534064139\n"
     ]
    }
   ],
   "source": [
    "print('Mean Cross validated score -> ', np.mean(cross_val_score(NB, X_train[predictor]**2, y_train, cv=5)*100))"
   ]
  }
 ],
 "metadata": {
  "kernelspec": {
   "display_name": "Python 3",
   "language": "python",
   "name": "python3"
  },
  "language_info": {
   "codemirror_mode": {
    "name": "ipython",
    "version": 3
   },
   "file_extension": ".py",
   "mimetype": "text/x-python",
   "name": "python",
   "nbconvert_exporter": "python",
   "pygments_lexer": "ipython3",
   "version": "3.7.1"
  }
 },
 "nbformat": 4,
 "nbformat_minor": 2
}
