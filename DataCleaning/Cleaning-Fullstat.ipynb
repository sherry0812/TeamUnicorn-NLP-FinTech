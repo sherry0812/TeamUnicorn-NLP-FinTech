{
 "cells": [
  {
   "cell_type": "markdown",
   "metadata": {},
   "source": [
    "# Data Cleaning - fullstat"
   ]
  },
  {
   "cell_type": "markdown",
   "metadata": {},
   "source": [
    "Description: \n",
    "- fullstat split into to fullstat_labeled and fullstat_without\n",
    "- cleaned fullstat_labeled and fullstat_without ready for text classification"
   ]
  },
  {
   "cell_type": "markdown",
   "metadata": {},
   "source": [
    "## Import Libraries"
   ]
  },
  {
   "cell_type": "markdown",
   "metadata": {},
   "source": [
    "### Main Libraries"
   ]
  },
  {
   "cell_type": "code",
   "execution_count": 1,
   "metadata": {},
   "outputs": [],
   "source": [
    "import pandas as pd\n",
    "import numpy as np\n",
    "import re"
   ]
  },
  {
   "cell_type": "markdown",
   "metadata": {},
   "source": [
    "### NLP Libraries"
   ]
  },
  {
   "cell_type": "code",
   "execution_count": 2,
   "metadata": {},
   "outputs": [],
   "source": [
    "import nltk\n",
    "from nltk.tokenize import word_tokenize, sent_tokenize\n",
    "from nltk.corpus import stopwords\n",
    "from nltk.stem import WordNetLemmatizer"
   ]
  },
  {
   "cell_type": "markdown",
   "metadata": {},
   "source": [
    "## Load Dataset (fullstat_labeled)"
   ]
  },
  {
   "cell_type": "code",
   "execution_count": 3,
   "metadata": {},
   "outputs": [
    {
     "data": {
      "text/html": [
       "<div>\n",
       "<style scoped>\n",
       "    .dataframe tbody tr th:only-of-type {\n",
       "        vertical-align: middle;\n",
       "    }\n",
       "\n",
       "    .dataframe tbody tr th {\n",
       "        vertical-align: top;\n",
       "    }\n",
       "\n",
       "    .dataframe thead th {\n",
       "        text-align: right;\n",
       "    }\n",
       "</style>\n",
       "<table border=\"1\" class=\"dataframe\">\n",
       "  <thead>\n",
       "    <tr style=\"text-align: right;\">\n",
       "      <th></th>\n",
       "      <th>Unnamed: 0</th>\n",
       "      <th>type</th>\n",
       "      <th>by</th>\n",
       "      <th>post_id</th>\n",
       "      <th>post_link</th>\n",
       "      <th>post_message</th>\n",
       "      <th>picture</th>\n",
       "      <th>full_picture</th>\n",
       "      <th>link</th>\n",
       "      <th>link_domain</th>\n",
       "      <th>...</th>\n",
       "      <th>comments_base</th>\n",
       "      <th>comments_replies</th>\n",
       "      <th>comment_likes_count</th>\n",
       "      <th>rea_LOVE</th>\n",
       "      <th>rea_WOW</th>\n",
       "      <th>rea_HAHA</th>\n",
       "      <th>rea_SAD</th>\n",
       "      <th>rea_ANGRY</th>\n",
       "      <th>rea_THANKFUL</th>\n",
       "      <th>target</th>\n",
       "    </tr>\n",
       "  </thead>\n",
       "  <tbody>\n",
       "    <tr>\n",
       "      <th>0</th>\n",
       "      <td>0</td>\n",
       "      <td>photo</td>\n",
       "      <td>post_page_155027942462</td>\n",
       "      <td>155027942462_10157348020627463</td>\n",
       "      <td>https://www.facebook.com/155027942462/posts/10...</td>\n",
       "      <td>Paying your bills on auto-pay ensures that bil...</td>\n",
       "      <td>https://scontent.xx.fbcdn.net/v/t1.0-0/p130x13...</td>\n",
       "      <td>https://scontent.xx.fbcdn.net/v/t1.0-9/p720x72...</td>\n",
       "      <td>https://www.facebook.com/GreenDot/photos/a.440...</td>\n",
       "      <td>facebook.com</td>\n",
       "      <td>...</td>\n",
       "      <td>0</td>\n",
       "      <td>0</td>\n",
       "      <td>0</td>\n",
       "      <td>0</td>\n",
       "      <td>0</td>\n",
       "      <td>0</td>\n",
       "      <td>0</td>\n",
       "      <td>0</td>\n",
       "      <td>0</td>\n",
       "      <td>App Update</td>\n",
       "    </tr>\n",
       "    <tr>\n",
       "      <th>1</th>\n",
       "      <td>1</td>\n",
       "      <td>photo</td>\n",
       "      <td>post_page_155027942462</td>\n",
       "      <td>155027942462_10157333387457463</td>\n",
       "      <td>https://www.facebook.com/155027942462/posts/10...</td>\n",
       "      <td>Raise your hand if you are excited for the fir...</td>\n",
       "      <td>https://scontent.xx.fbcdn.net/v/t1.0-0/p130x13...</td>\n",
       "      <td>https://scontent.xx.fbcdn.net/v/t1.0-9/p720x72...</td>\n",
       "      <td>https://www.facebook.com/GreenDot/photos/a.440...</td>\n",
       "      <td>facebook.com</td>\n",
       "      <td>...</td>\n",
       "      <td>0</td>\n",
       "      <td>0</td>\n",
       "      <td>0</td>\n",
       "      <td>4</td>\n",
       "      <td>1</td>\n",
       "      <td>0</td>\n",
       "      <td>0</td>\n",
       "      <td>1</td>\n",
       "      <td>0</td>\n",
       "      <td>Engagement</td>\n",
       "    </tr>\n",
       "    <tr>\n",
       "      <th>2</th>\n",
       "      <td>2</td>\n",
       "      <td>photo</td>\n",
       "      <td>post_page_155027942462</td>\n",
       "      <td>155027942462_10157330985232463</td>\n",
       "      <td>https://www.facebook.com/155027942462/posts/10...</td>\n",
       "      <td>Couples who save together stay forever 🥰  Here...</td>\n",
       "      <td>https://scontent.xx.fbcdn.net/v/t1.0-0/p130x13...</td>\n",
       "      <td>https://scontent.xx.fbcdn.net/v/t1.0-9/p720x72...</td>\n",
       "      <td>https://www.facebook.com/GreenDot/photos/a.440...</td>\n",
       "      <td>facebook.com</td>\n",
       "      <td>...</td>\n",
       "      <td>0</td>\n",
       "      <td>0</td>\n",
       "      <td>0</td>\n",
       "      <td>0</td>\n",
       "      <td>0</td>\n",
       "      <td>0</td>\n",
       "      <td>0</td>\n",
       "      <td>1</td>\n",
       "      <td>0</td>\n",
       "      <td>Engagement</td>\n",
       "    </tr>\n",
       "    <tr>\n",
       "      <th>3</th>\n",
       "      <td>3</td>\n",
       "      <td>photo</td>\n",
       "      <td>post_page_155027942462</td>\n",
       "      <td>155027942462_10157323881577463</td>\n",
       "      <td>https://www.facebook.com/155027942462/posts/10...</td>\n",
       "      <td>In case you’ve forgotten: Make saving a daily ...</td>\n",
       "      <td>https://scontent.xx.fbcdn.net/v/t1.0-0/p130x13...</td>\n",
       "      <td>https://scontent.xx.fbcdn.net/v/t1.0-9/p720x72...</td>\n",
       "      <td>https://www.facebook.com/GreenDot/photos/a.440...</td>\n",
       "      <td>facebook.com</td>\n",
       "      <td>...</td>\n",
       "      <td>0</td>\n",
       "      <td>0</td>\n",
       "      <td>0</td>\n",
       "      <td>0</td>\n",
       "      <td>0</td>\n",
       "      <td>0</td>\n",
       "      <td>0</td>\n",
       "      <td>1</td>\n",
       "      <td>0</td>\n",
       "      <td>Engagement</td>\n",
       "    </tr>\n",
       "    <tr>\n",
       "      <th>4</th>\n",
       "      <td>4</td>\n",
       "      <td>video</td>\n",
       "      <td>post_page_155027942462</td>\n",
       "      <td>155027942462_10157315990422463</td>\n",
       "      <td>https://www.facebook.com/155027942462/posts/10...</td>\n",
       "      <td>Father’s Day is approaching. We got smart ways...</td>\n",
       "      <td>https://external.xx.fbcdn.net/safe_image.php?d...</td>\n",
       "      <td>https://external.xx.fbcdn.net/safe_image.php?d...</td>\n",
       "      <td>https://go.greendot.com/blog/smart-fathers-day...</td>\n",
       "      <td>go.greendot.com</td>\n",
       "      <td>...</td>\n",
       "      <td>0</td>\n",
       "      <td>0</td>\n",
       "      <td>0</td>\n",
       "      <td>0</td>\n",
       "      <td>0</td>\n",
       "      <td>0</td>\n",
       "      <td>0</td>\n",
       "      <td>3</td>\n",
       "      <td>0</td>\n",
       "      <td>Engagement</td>\n",
       "    </tr>\n",
       "  </tbody>\n",
       "</table>\n",
       "<p>5 rows × 29 columns</p>\n",
       "</div>"
      ],
      "text/plain": [
       "   Unnamed: 0   type                      by                         post_id  \\\n",
       "0           0  photo  post_page_155027942462  155027942462_10157348020627463   \n",
       "1           1  photo  post_page_155027942462  155027942462_10157333387457463   \n",
       "2           2  photo  post_page_155027942462  155027942462_10157330985232463   \n",
       "3           3  photo  post_page_155027942462  155027942462_10157323881577463   \n",
       "4           4  video  post_page_155027942462  155027942462_10157315990422463   \n",
       "\n",
       "                                           post_link  \\\n",
       "0  https://www.facebook.com/155027942462/posts/10...   \n",
       "1  https://www.facebook.com/155027942462/posts/10...   \n",
       "2  https://www.facebook.com/155027942462/posts/10...   \n",
       "3  https://www.facebook.com/155027942462/posts/10...   \n",
       "4  https://www.facebook.com/155027942462/posts/10...   \n",
       "\n",
       "                                        post_message  \\\n",
       "0  Paying your bills on auto-pay ensures that bil...   \n",
       "1  Raise your hand if you are excited for the fir...   \n",
       "2  Couples who save together stay forever 🥰  Here...   \n",
       "3  In case you’ve forgotten: Make saving a daily ...   \n",
       "4  Father’s Day is approaching. We got smart ways...   \n",
       "\n",
       "                                             picture  \\\n",
       "0  https://scontent.xx.fbcdn.net/v/t1.0-0/p130x13...   \n",
       "1  https://scontent.xx.fbcdn.net/v/t1.0-0/p130x13...   \n",
       "2  https://scontent.xx.fbcdn.net/v/t1.0-0/p130x13...   \n",
       "3  https://scontent.xx.fbcdn.net/v/t1.0-0/p130x13...   \n",
       "4  https://external.xx.fbcdn.net/safe_image.php?d...   \n",
       "\n",
       "                                        full_picture  \\\n",
       "0  https://scontent.xx.fbcdn.net/v/t1.0-9/p720x72...   \n",
       "1  https://scontent.xx.fbcdn.net/v/t1.0-9/p720x72...   \n",
       "2  https://scontent.xx.fbcdn.net/v/t1.0-9/p720x72...   \n",
       "3  https://scontent.xx.fbcdn.net/v/t1.0-9/p720x72...   \n",
       "4  https://external.xx.fbcdn.net/safe_image.php?d...   \n",
       "\n",
       "                                                link      link_domain  \\\n",
       "0  https://www.facebook.com/GreenDot/photos/a.440...     facebook.com   \n",
       "1  https://www.facebook.com/GreenDot/photos/a.440...     facebook.com   \n",
       "2  https://www.facebook.com/GreenDot/photos/a.440...     facebook.com   \n",
       "3  https://www.facebook.com/GreenDot/photos/a.440...     facebook.com   \n",
       "4  https://go.greendot.com/blog/smart-fathers-day...  go.greendot.com   \n",
       "\n",
       "      ...     comments_base  comments_replies comment_likes_count  rea_LOVE  \\\n",
       "0     ...                 0                 0                   0         0   \n",
       "1     ...                 0                 0                   0         4   \n",
       "2     ...                 0                 0                   0         0   \n",
       "3     ...                 0                 0                   0         0   \n",
       "4     ...                 0                 0                   0         0   \n",
       "\n",
       "   rea_WOW  rea_HAHA  rea_SAD  rea_ANGRY  rea_THANKFUL      target  \n",
       "0        0         0        0          0             0  App Update  \n",
       "1        1         0        0          1             0  Engagement  \n",
       "2        0         0        0          1             0  Engagement  \n",
       "3        0         0        0          1             0  Engagement  \n",
       "4        0         0        0          3             0  Engagement  \n",
       "\n",
       "[5 rows x 29 columns]"
      ]
     },
     "execution_count": 3,
     "metadata": {},
     "output_type": "execute_result"
    }
   ],
   "source": [
    "# Load dataset\n",
    "df_labeled = pd.read_csv('C:/Users/cherryb/Desktop/Personal Projects/Datasets/Telus - Fintech/fullstat_labeled.tsv', sep='\\t')\n",
    "# Inspect df\n",
    "df_labeled.head()"
   ]
  },
  {
   "cell_type": "markdown",
   "metadata": {},
   "source": [
    "## Data Pre-processing"
   ]
  },
  {
   "cell_type": "code",
   "execution_count": 4,
   "metadata": {},
   "outputs": [],
   "source": [
    "# Drop unnecessary columns\n",
    "drop_columns = ['Unnamed: 0', 'post_id', 'post_link', 'picture',\n",
    "               'full_picture', 'link', 'link_domain', 'post_published_unix',\n",
    "               'post_published_sql']\n",
    "df_labeled = df_labeled.drop(drop_columns, axis=1)"
   ]
  },
  {
   "cell_type": "code",
   "execution_count": 5,
   "metadata": {},
   "outputs": [],
   "source": [
    "# Tokenize the posts\n",
    "df_labeled['post_message'] = df_labeled['post_message'].apply(lambda list_words: word_tokenize(list_words))"
   ]
  },
  {
   "cell_type": "code",
   "execution_count": 6,
   "metadata": {},
   "outputs": [],
   "source": [
    "def remove_nonalpha(text):\n",
    "    '''\n",
    "    Removing non-alpha characters\n",
    "    '''\n",
    "    return re.sub('[^a-zA-Z]', '', text)"
   ]
  },
  {
   "cell_type": "code",
   "execution_count": 7,
   "metadata": {},
   "outputs": [],
   "source": [
    "# Run the function to remove non-letter characters\n",
    "df_labeled['post_message'] = df_labeled['post_message'].apply(lambda list_words: [remove_nonalpha(word) for word in list_words])"
   ]
  },
  {
   "cell_type": "code",
   "execution_count": 8,
   "metadata": {},
   "outputs": [],
   "source": [
    "# Remove empty strings\n",
    "df_labeled['post_message'] = df_labeled['post_message'].apply(lambda list_words: list(filter(None, list_words)))"
   ]
  },
  {
   "cell_type": "code",
   "execution_count": 9,
   "metadata": {},
   "outputs": [],
   "source": [
    "# Convert all letters to lowercase\n",
    "df_labeled['post_message'] = df_labeled['post_message'].apply(lambda list_words: [word.lower() for word in list_words])"
   ]
  },
  {
   "cell_type": "code",
   "execution_count": 10,
   "metadata": {
    "scrolled": true
   },
   "outputs": [],
   "source": [
    "# Remove stopwords\n",
    "stop_words = sorted(stopwords.words('english'))\n",
    "df_labeled['post_message'] = df_labeled['post_message'].apply(lambda list_words: [word for word in list_words if not word in stop_words])"
   ]
  },
  {
   "cell_type": "code",
   "execution_count": 11,
   "metadata": {},
   "outputs": [],
   "source": [
    "# Sort words by grouping inflected forms of the same word\n",
    "lem = WordNetLemmatizer()\n",
    "df_labeled['post_message'] = df_labeled['post_message'].apply(lambda list_words: [lem.lemmatize(word) for word in list_words])"
   ]
  },
  {
   "cell_type": "markdown",
   "metadata": {},
   "source": [
    "## Save as fullstat_cleaned.tsv"
   ]
  },
  {
   "cell_type": "code",
   "execution_count": 12,
   "metadata": {},
   "outputs": [],
   "source": [
    "df_labeled.to_csv('C:/Users/cherryb/Desktop/Personal Projects/Datasets/Telus - Fintech/cleaned/fullstat_withLabels_cleaned.tsv', sep='\\t')"
   ]
  },
  {
   "cell_type": "markdown",
   "metadata": {},
   "source": [
    "----------"
   ]
  },
  {
   "cell_type": "markdown",
   "metadata": {},
   "source": [
    "## Load Dataset (fullstat_unlabeled)"
   ]
  },
  {
   "cell_type": "code",
   "execution_count": 13,
   "metadata": {},
   "outputs": [
    {
     "data": {
      "text/html": [
       "<div>\n",
       "<style scoped>\n",
       "    .dataframe tbody tr th:only-of-type {\n",
       "        vertical-align: middle;\n",
       "    }\n",
       "\n",
       "    .dataframe tbody tr th {\n",
       "        vertical-align: top;\n",
       "    }\n",
       "\n",
       "    .dataframe thead th {\n",
       "        text-align: right;\n",
       "    }\n",
       "</style>\n",
       "<table border=\"1\" class=\"dataframe\">\n",
       "  <thead>\n",
       "    <tr style=\"text-align: right;\">\n",
       "      <th></th>\n",
       "      <th>post_id</th>\n",
       "      <th>type</th>\n",
       "      <th>by</th>\n",
       "      <th>post_link</th>\n",
       "      <th>post_message</th>\n",
       "      <th>picture</th>\n",
       "      <th>full_picture</th>\n",
       "      <th>link</th>\n",
       "      <th>link_domain</th>\n",
       "      <th>post_published</th>\n",
       "      <th>...</th>\n",
       "      <th>comments_retrieved</th>\n",
       "      <th>comments_base</th>\n",
       "      <th>comments_replies</th>\n",
       "      <th>comment_likes_count</th>\n",
       "      <th>rea_LOVE</th>\n",
       "      <th>rea_WOW</th>\n",
       "      <th>rea_HAHA</th>\n",
       "      <th>rea_SAD</th>\n",
       "      <th>rea_ANGRY</th>\n",
       "      <th>rea_THANKFUL</th>\n",
       "    </tr>\n",
       "  </thead>\n",
       "  <tbody>\n",
       "    <tr>\n",
       "      <th>0</th>\n",
       "      <td>155027942462_10156111760852463</td>\n",
       "      <td>photo</td>\n",
       "      <td>post_page_155027942462</td>\n",
       "      <td>https://www.facebook.com/155027942462/posts/10...</td>\n",
       "      <td>😎 / @taylorlatimerofficial loves that you can ...</td>\n",
       "      <td>https://scontent.xx.fbcdn.net/v/t1.0-0/p130x13...</td>\n",
       "      <td>https://scontent.xx.fbcdn.net/v/t31.0-8/p720x7...</td>\n",
       "      <td>https://www.facebook.com/GreenDot/photos/a.440...</td>\n",
       "      <td>facebook.com</td>\n",
       "      <td>2018-02-14T22:46:01+0000</td>\n",
       "      <td>...</td>\n",
       "      <td>69</td>\n",
       "      <td>20</td>\n",
       "      <td>49</td>\n",
       "      <td>45</td>\n",
       "      <td>0</td>\n",
       "      <td>1</td>\n",
       "      <td>0</td>\n",
       "      <td>0</td>\n",
       "      <td>7</td>\n",
       "      <td>0</td>\n",
       "    </tr>\n",
       "    <tr>\n",
       "      <th>1</th>\n",
       "      <td>155027942462_10156293436177463</td>\n",
       "      <td>video</td>\n",
       "      <td>post_page_155027942462</td>\n",
       "      <td>https://www.facebook.com/GreenDot/videos/10156...</td>\n",
       "      <td>Here’s a little #MondayMotivation from us to y...</td>\n",
       "      <td>https://scontent.xx.fbcdn.net/v/t15.5256-10/p1...</td>\n",
       "      <td>https://scontent.xx.fbcdn.net/v/t15.5256-10/27...</td>\n",
       "      <td>https://www.facebook.com/GreenDot/videos/10156...</td>\n",
       "      <td>facebook.com</td>\n",
       "      <td>2018-04-16T16:00:34+0000</td>\n",
       "      <td>...</td>\n",
       "      <td>8</td>\n",
       "      <td>8</td>\n",
       "      <td>0</td>\n",
       "      <td>0</td>\n",
       "      <td>4</td>\n",
       "      <td>0</td>\n",
       "      <td>0</td>\n",
       "      <td>0</td>\n",
       "      <td>0</td>\n",
       "      <td>0</td>\n",
       "    </tr>\n",
       "    <tr>\n",
       "      <th>2</th>\n",
       "      <td>155027942462_10156639430782463</td>\n",
       "      <td>photo</td>\n",
       "      <td>post_page_155027942462</td>\n",
       "      <td>https://www.facebook.com/155027942462/posts/10...</td>\n",
       "      <td>How are you celebrating Labor Day? Tell us in ...</td>\n",
       "      <td>https://scontent.xx.fbcdn.net/v/t1.0-0/p130x13...</td>\n",
       "      <td>https://scontent.xx.fbcdn.net/v/t1.0-9/p720x72...</td>\n",
       "      <td>https://www.facebook.com/GreenDot/photos/a.440...</td>\n",
       "      <td>facebook.com</td>\n",
       "      <td>2018-09-03T17:23:05+0000</td>\n",
       "      <td>...</td>\n",
       "      <td>3</td>\n",
       "      <td>3</td>\n",
       "      <td>0</td>\n",
       "      <td>0</td>\n",
       "      <td>0</td>\n",
       "      <td>0</td>\n",
       "      <td>0</td>\n",
       "      <td>0</td>\n",
       "      <td>0</td>\n",
       "      <td>0</td>\n",
       "    </tr>\n",
       "    <tr>\n",
       "      <th>3</th>\n",
       "      <td>155027942462_10156454906152463</td>\n",
       "      <td>link</td>\n",
       "      <td>post_page_155027942462</td>\n",
       "      <td>https://www.facebook.com/155027942462/posts/10...</td>\n",
       "      <td>Budget. Personal Savings Plans. Prepaid Debit ...</td>\n",
       "      <td>https://external.xx.fbcdn.net/safe_image.php?d...</td>\n",
       "      <td>https://external.xx.fbcdn.net/safe_image.php?d...</td>\n",
       "      <td>https://go.greendot.com/blog/expert-tips-budge...</td>\n",
       "      <td>go.greendot.com</td>\n",
       "      <td>2018-06-21T16:30:02+0000</td>\n",
       "      <td>...</td>\n",
       "      <td>1</td>\n",
       "      <td>1</td>\n",
       "      <td>0</td>\n",
       "      <td>0</td>\n",
       "      <td>0</td>\n",
       "      <td>0</td>\n",
       "      <td>0</td>\n",
       "      <td>1</td>\n",
       "      <td>2</td>\n",
       "      <td>0</td>\n",
       "    </tr>\n",
       "    <tr>\n",
       "      <th>4</th>\n",
       "      <td>155027942462_10156386241517463</td>\n",
       "      <td>link</td>\n",
       "      <td>post_page_155027942462</td>\n",
       "      <td>https://www.facebook.com/155027942462/posts/10...</td>\n",
       "      <td>You can do this / Learn how to free yourself f...</td>\n",
       "      <td>https://external.xx.fbcdn.net/safe_image.php?d...</td>\n",
       "      <td>https://external.xx.fbcdn.net/safe_image.php?d...</td>\n",
       "      <td>https://go.greendot.com/blog/free-paycheck-pay...</td>\n",
       "      <td>go.greendot.com</td>\n",
       "      <td>2018-05-25T13:00:09+0000</td>\n",
       "      <td>...</td>\n",
       "      <td>4</td>\n",
       "      <td>4</td>\n",
       "      <td>0</td>\n",
       "      <td>2</td>\n",
       "      <td>0</td>\n",
       "      <td>1</td>\n",
       "      <td>1</td>\n",
       "      <td>0</td>\n",
       "      <td>1</td>\n",
       "      <td>0</td>\n",
       "    </tr>\n",
       "  </tbody>\n",
       "</table>\n",
       "<p>5 rows × 27 columns</p>\n",
       "</div>"
      ],
      "text/plain": [
       "                          post_id   type                      by  \\\n",
       "0  155027942462_10156111760852463  photo  post_page_155027942462   \n",
       "1  155027942462_10156293436177463  video  post_page_155027942462   \n",
       "2  155027942462_10156639430782463  photo  post_page_155027942462   \n",
       "3  155027942462_10156454906152463   link  post_page_155027942462   \n",
       "4  155027942462_10156386241517463   link  post_page_155027942462   \n",
       "\n",
       "                                           post_link  \\\n",
       "0  https://www.facebook.com/155027942462/posts/10...   \n",
       "1  https://www.facebook.com/GreenDot/videos/10156...   \n",
       "2  https://www.facebook.com/155027942462/posts/10...   \n",
       "3  https://www.facebook.com/155027942462/posts/10...   \n",
       "4  https://www.facebook.com/155027942462/posts/10...   \n",
       "\n",
       "                                        post_message  \\\n",
       "0  😎 / @taylorlatimerofficial loves that you can ...   \n",
       "1  Here’s a little #MondayMotivation from us to y...   \n",
       "2  How are you celebrating Labor Day? Tell us in ...   \n",
       "3  Budget. Personal Savings Plans. Prepaid Debit ...   \n",
       "4  You can do this / Learn how to free yourself f...   \n",
       "\n",
       "                                             picture  \\\n",
       "0  https://scontent.xx.fbcdn.net/v/t1.0-0/p130x13...   \n",
       "1  https://scontent.xx.fbcdn.net/v/t15.5256-10/p1...   \n",
       "2  https://scontent.xx.fbcdn.net/v/t1.0-0/p130x13...   \n",
       "3  https://external.xx.fbcdn.net/safe_image.php?d...   \n",
       "4  https://external.xx.fbcdn.net/safe_image.php?d...   \n",
       "\n",
       "                                        full_picture  \\\n",
       "0  https://scontent.xx.fbcdn.net/v/t31.0-8/p720x7...   \n",
       "1  https://scontent.xx.fbcdn.net/v/t15.5256-10/27...   \n",
       "2  https://scontent.xx.fbcdn.net/v/t1.0-9/p720x72...   \n",
       "3  https://external.xx.fbcdn.net/safe_image.php?d...   \n",
       "4  https://external.xx.fbcdn.net/safe_image.php?d...   \n",
       "\n",
       "                                                link      link_domain  \\\n",
       "0  https://www.facebook.com/GreenDot/photos/a.440...     facebook.com   \n",
       "1  https://www.facebook.com/GreenDot/videos/10156...     facebook.com   \n",
       "2  https://www.facebook.com/GreenDot/photos/a.440...     facebook.com   \n",
       "3  https://go.greendot.com/blog/expert-tips-budge...  go.greendot.com   \n",
       "4  https://go.greendot.com/blog/free-paycheck-pay...  go.greendot.com   \n",
       "\n",
       "             post_published      ...       comments_retrieved comments_base  \\\n",
       "0  2018-02-14T22:46:01+0000      ...                       69            20   \n",
       "1  2018-04-16T16:00:34+0000      ...                        8             8   \n",
       "2  2018-09-03T17:23:05+0000      ...                        3             3   \n",
       "3  2018-06-21T16:30:02+0000      ...                        1             1   \n",
       "4  2018-05-25T13:00:09+0000      ...                        4             4   \n",
       "\n",
       "   comments_replies  comment_likes_count  rea_LOVE  rea_WOW  rea_HAHA  \\\n",
       "0                49                   45         0        1         0   \n",
       "1                 0                    0         4        0         0   \n",
       "2                 0                    0         0        0         0   \n",
       "3                 0                    0         0        0         0   \n",
       "4                 0                    2         0        1         1   \n",
       "\n",
       "   rea_SAD  rea_ANGRY  rea_THANKFUL  \n",
       "0        0          7             0  \n",
       "1        0          0             0  \n",
       "2        0          0             0  \n",
       "3        1          2             0  \n",
       "4        0          1             0  \n",
       "\n",
       "[5 rows x 27 columns]"
      ]
     },
     "execution_count": 13,
     "metadata": {},
     "output_type": "execute_result"
    }
   ],
   "source": [
    "# Load dataset\n",
    "df_without = pd.read_csv('C:/Users/cherryb/Desktop/Personal Projects/Datasets/Telus - Fintech/fullstat_without.tsv', sep='\\t')\n",
    "# Inspect df\n",
    "df_without.head()"
   ]
  },
  {
   "cell_type": "markdown",
   "metadata": {},
   "source": [
    "## Data Pre-processing"
   ]
  },
  {
   "cell_type": "code",
   "execution_count": 14,
   "metadata": {},
   "outputs": [],
   "source": [
    "# Drop unnecessary columns\n",
    "drop_columns2 = ['post_id', 'post_link', 'picture',\n",
    "               'full_picture', 'link', 'link_domain', 'post_published_unix',\n",
    "               'post_published_sql']\n",
    "df_without = df_without.drop(drop_columns2, axis=1)"
   ]
  },
  {
   "cell_type": "code",
   "execution_count": 15,
   "metadata": {},
   "outputs": [],
   "source": [
    "# Tokenize the posts\n",
    "df_without['post_message'] = df_without['post_message'].apply(lambda list_words: word_tokenize(list_words))"
   ]
  },
  {
   "cell_type": "code",
   "execution_count": 16,
   "metadata": {},
   "outputs": [],
   "source": [
    "# Run the function to remove non-letter characters\n",
    "df_without['post_message'] = df_without['post_message'].apply(lambda list_words: [remove_nonalpha(word) for word in list_words])"
   ]
  },
  {
   "cell_type": "code",
   "execution_count": 17,
   "metadata": {},
   "outputs": [],
   "source": [
    "# Remove empty strings\n",
    "df_without['post_message'] = df_without['post_message'].apply(lambda list_words: list(filter(None, list_words)))"
   ]
  },
  {
   "cell_type": "code",
   "execution_count": 18,
   "metadata": {},
   "outputs": [],
   "source": [
    "# Convert all letters to lowercase\n",
    "df_without['post_message'] = df_without['post_message'].apply(lambda list_words: [word.lower() for word in list_words])"
   ]
  },
  {
   "cell_type": "code",
   "execution_count": 19,
   "metadata": {},
   "outputs": [],
   "source": [
    "# Remove stopwords\n",
    "df_without['post_message'] = df_without['post_message'].apply(lambda list_words: [word for word in list_words if not word in stop_words])"
   ]
  },
  {
   "cell_type": "code",
   "execution_count": 20,
   "metadata": {},
   "outputs": [],
   "source": [
    "# Sort words by grouping inflected forms of the same word\n",
    "df_without['post_message'] = df_without['post_message'].apply(lambda list_words: [lem.lemmatize(word) for word in list_words])"
   ]
  },
  {
   "cell_type": "markdown",
   "metadata": {},
   "source": [
    "## Save as fullstat_cleaned.tsv"
   ]
  },
  {
   "cell_type": "code",
   "execution_count": 21,
   "metadata": {},
   "outputs": [],
   "source": [
    "df_without.to_csv('C:/Users/cherryb/Desktop/Personal Projects/Datasets/Telus - Fintech/cleaned/fullstat_without_cleaned.tsv', sep='\\t')"
   ]
  }
 ],
 "metadata": {
  "kernelspec": {
   "display_name": "Python 3",
   "language": "python",
   "name": "python3"
  },
  "language_info": {
   "codemirror_mode": {
    "name": "ipython",
    "version": 3
   },
   "file_extension": ".py",
   "mimetype": "text/x-python",
   "name": "python",
   "nbconvert_exporter": "python",
   "pygments_lexer": "ipython3",
   "version": "3.7.1"
  }
 },
 "nbformat": 4,
 "nbformat_minor": 2
}
