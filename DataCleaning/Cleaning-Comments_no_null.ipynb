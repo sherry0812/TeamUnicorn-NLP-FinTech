{
 "cells": [
  {
   "cell_type": "markdown",
   "metadata": {},
   "source": [
    "# Data Cleaning - comments.tsv"
   ]
  },
  {
   "cell_type": "markdown",
   "metadata": {},
   "source": [
    "Description:\n",
    "- cleaned comments dataset ready for VaderSentiment and TextBlob"
   ]
  },
  {
   "cell_type": "markdown",
   "metadata": {},
   "source": [
    "## Import Libraries"
   ]
  },
  {
   "cell_type": "markdown",
   "metadata": {},
   "source": [
    "### Main Libraries"
   ]
  },
  {
   "cell_type": "code",
   "execution_count": 1,
   "metadata": {},
   "outputs": [],
   "source": [
    "import pandas as pd\n",
    "import numpy as np\n",
    "import re"
   ]
  },
  {
   "cell_type": "markdown",
   "metadata": {},
   "source": [
    "## Load Dataset"
   ]
  },
  {
   "cell_type": "code",
   "execution_count": 2,
   "metadata": {},
   "outputs": [
    {
     "data": {
      "text/html": [
       "<div>\n",
       "<style scoped>\n",
       "    .dataframe tbody tr th:only-of-type {\n",
       "        vertical-align: middle;\n",
       "    }\n",
       "\n",
       "    .dataframe tbody tr th {\n",
       "        vertical-align: top;\n",
       "    }\n",
       "\n",
       "    .dataframe thead th {\n",
       "        text-align: right;\n",
       "    }\n",
       "</style>\n",
       "<table border=\"1\" class=\"dataframe\">\n",
       "  <thead>\n",
       "    <tr style=\"text-align: right;\">\n",
       "      <th></th>\n",
       "      <th>position</th>\n",
       "      <th>post_id</th>\n",
       "      <th>post_by</th>\n",
       "      <th>post_text</th>\n",
       "      <th>post_published</th>\n",
       "      <th>comment_id</th>\n",
       "      <th>comment_by</th>\n",
       "      <th>is_reply</th>\n",
       "      <th>comment_message</th>\n",
       "      <th>comment_published</th>\n",
       "      <th>comment_like_count</th>\n",
       "      <th>attachment_type</th>\n",
       "      <th>attachment_url</th>\n",
       "    </tr>\n",
       "  </thead>\n",
       "  <tbody>\n",
       "    <tr>\n",
       "      <th>0</th>\n",
       "      <td>20_0</td>\n",
       "      <td>155027942462_10157280442467463</td>\n",
       "      <td>f0a137b6d4a4b4e94cc04bea6ac43d203c12d679</td>\n",
       "      <td>Let us help keep you in control of your money ...</td>\n",
       "      <td>2019-05-31T13:42:05+0000</td>\n",
       "      <td>10157280442467463_10157324996792463</td>\n",
       "      <td>da39a3ee5e6b4b0d3255bfef95601890afd80709</td>\n",
       "      <td>1</td>\n",
       "      <td>Why?</td>\n",
       "      <td>2019-06-18T00:08:26+0000</td>\n",
       "      <td>0</td>\n",
       "      <td>NaN</td>\n",
       "      <td>NaN</td>\n",
       "    </tr>\n",
       "    <tr>\n",
       "      <th>1</th>\n",
       "      <td>20_1</td>\n",
       "      <td>155027942462_10157280442467463</td>\n",
       "      <td>f0a137b6d4a4b4e94cc04bea6ac43d203c12d679</td>\n",
       "      <td>Let us help keep you in control of your money ...</td>\n",
       "      <td>2019-05-31T13:42:05+0000</td>\n",
       "      <td>10157280442467463_10157291740937463</td>\n",
       "      <td>da39a3ee5e6b4b0d3255bfef95601890afd80709</td>\n",
       "      <td>0</td>\n",
       "      <td>The worst card ever it’s lawsuit time</td>\n",
       "      <td>2019-06-04T19:53:28+0000</td>\n",
       "      <td>6</td>\n",
       "      <td>NaN</td>\n",
       "      <td>NaN</td>\n",
       "    </tr>\n",
       "    <tr>\n",
       "      <th>2</th>\n",
       "      <td>32_0</td>\n",
       "      <td>155027942462_10157236349992463</td>\n",
       "      <td>f0a137b6d4a4b4e94cc04bea6ac43d203c12d679</td>\n",
       "      <td>Rise &amp; Grind ☀️ / Plan today for your success ...</td>\n",
       "      <td>2019-05-13T15:41:07+0000</td>\n",
       "      <td>10157236349992463_10157237648947463</td>\n",
       "      <td>da39a3ee5e6b4b0d3255bfef95601890afd80709</td>\n",
       "      <td>0</td>\n",
       "      <td>I think some needs to hear this. Over the year...</td>\n",
       "      <td>2019-05-14T03:28:34+0000</td>\n",
       "      <td>0</td>\n",
       "      <td>NaN</td>\n",
       "      <td>NaN</td>\n",
       "    </tr>\n",
       "  </tbody>\n",
       "</table>\n",
       "</div>"
      ],
      "text/plain": [
       "  position                         post_id  \\\n",
       "0     20_0  155027942462_10157280442467463   \n",
       "1     20_1  155027942462_10157280442467463   \n",
       "2     32_0  155027942462_10157236349992463   \n",
       "\n",
       "                                    post_by  \\\n",
       "0  f0a137b6d4a4b4e94cc04bea6ac43d203c12d679   \n",
       "1  f0a137b6d4a4b4e94cc04bea6ac43d203c12d679   \n",
       "2  f0a137b6d4a4b4e94cc04bea6ac43d203c12d679   \n",
       "\n",
       "                                           post_text  \\\n",
       "0  Let us help keep you in control of your money ...   \n",
       "1  Let us help keep you in control of your money ...   \n",
       "2  Rise & Grind ☀️ / Plan today for your success ...   \n",
       "\n",
       "             post_published                           comment_id  \\\n",
       "0  2019-05-31T13:42:05+0000  10157280442467463_10157324996792463   \n",
       "1  2019-05-31T13:42:05+0000  10157280442467463_10157291740937463   \n",
       "2  2019-05-13T15:41:07+0000  10157236349992463_10157237648947463   \n",
       "\n",
       "                                 comment_by  is_reply  \\\n",
       "0  da39a3ee5e6b4b0d3255bfef95601890afd80709         1   \n",
       "1  da39a3ee5e6b4b0d3255bfef95601890afd80709         0   \n",
       "2  da39a3ee5e6b4b0d3255bfef95601890afd80709         0   \n",
       "\n",
       "                                     comment_message  \\\n",
       "0                                               Why?   \n",
       "1              The worst card ever it’s lawsuit time   \n",
       "2  I think some needs to hear this. Over the year...   \n",
       "\n",
       "          comment_published  comment_like_count attachment_type attachment_url  \n",
       "0  2019-06-18T00:08:26+0000                   0             NaN            NaN  \n",
       "1  2019-06-04T19:53:28+0000                   6             NaN            NaN  \n",
       "2  2019-05-14T03:28:34+0000                   0             NaN            NaN  "
      ]
     },
     "execution_count": 2,
     "metadata": {},
     "output_type": "execute_result"
    }
   ],
   "source": [
    "# Load dataset\n",
    "df = pd.read_csv('C:/Users/cherryb/Desktop/Personal Projects/Datasets/Telus - Fintech/comments.txt', sep='\\t')\n",
    "# Inspect df\n",
    "df.head(3)"
   ]
  },
  {
   "cell_type": "markdown",
   "metadata": {},
   "source": [
    "## Data Pre-processing"
   ]
  },
  {
   "cell_type": "code",
   "execution_count": 3,
   "metadata": {},
   "outputs": [],
   "source": [
    "# Drop unnecessary columns\n",
    "drop_columns = ['position', 'post_id', 'post_by', 'post_text', \n",
    "                'post_published', 'comment_id', 'attachment_url']\n",
    "df = df.drop(drop_columns, axis=1)"
   ]
  },
  {
   "cell_type": "code",
   "execution_count": 4,
   "metadata": {},
   "outputs": [
    {
     "data": {
      "text/plain": [
       "comment_by                0\n",
       "is_reply                  0\n",
       "comment_message         216\n",
       "comment_published         0\n",
       "comment_like_count        0\n",
       "attachment_type       21520\n",
       "dtype: int64"
      ]
     },
     "execution_count": 4,
     "metadata": {},
     "output_type": "execute_result"
    }
   ],
   "source": [
    "# Check for null values\n",
    "df.isnull().sum()"
   ]
  },
  {
   "cell_type": "code",
   "execution_count": 5,
   "metadata": {},
   "outputs": [],
   "source": [
    "# Delete comments that are posted by pageowner\n",
    "df = df.drop(df[df.comment_by == 'pageowner'].index)\n",
    "\n",
    "# Drop comment_by column\n",
    "df = df.drop(['comment_by'], axis=1)\n",
    "\n",
    "# Drop null values\n",
    "df = df.dropna(subset=['comment_message'])"
   ]
  },
  {
   "cell_type": "code",
   "execution_count": 6,
   "metadata": {},
   "outputs": [],
   "source": [
    "def delete_url(text):\n",
    "    '''\n",
    "    To delete rows that looks like a URL\n",
    "    (https, http, www)\n",
    "    '''\n",
    "    return re.sub(r'''(?i)\\b((?:http[s]?://|www\\d{0,3}[.]|[a-z0-9.\\-]+[.][a-z]{2,4}/)(?:[^\\s()<>]+|\\(([^\\s()<>]+|(\\([^\\s()<>]+\\)))*\\))+(?:\\(([^\\s()<>]+|(\\([^\\s()<>]+\\)))*\\)|[^\\s`!()\\[\\]{};:'\".,<>?«»“”‘’]))''', 'None', text)"
   ]
  },
  {
   "cell_type": "code",
   "execution_count": 7,
   "metadata": {},
   "outputs": [
    {
     "data": {
      "text/html": [
       "<div>\n",
       "<style scoped>\n",
       "    .dataframe tbody tr th:only-of-type {\n",
       "        vertical-align: middle;\n",
       "    }\n",
       "\n",
       "    .dataframe tbody tr th {\n",
       "        vertical-align: top;\n",
       "    }\n",
       "\n",
       "    .dataframe thead th {\n",
       "        text-align: right;\n",
       "    }\n",
       "</style>\n",
       "<table border=\"1\" class=\"dataframe\">\n",
       "  <thead>\n",
       "    <tr style=\"text-align: right;\">\n",
       "      <th></th>\n",
       "      <th>is_reply</th>\n",
       "      <th>comment_message</th>\n",
       "      <th>comment_published</th>\n",
       "      <th>comment_like_count</th>\n",
       "      <th>attachment_type</th>\n",
       "    </tr>\n",
       "  </thead>\n",
       "  <tbody>\n",
       "    <tr>\n",
       "      <th>0</th>\n",
       "      <td>1</td>\n",
       "      <td>Why?</td>\n",
       "      <td>2019-06-18T00:08:26+0000</td>\n",
       "      <td>0</td>\n",
       "      <td>NaN</td>\n",
       "    </tr>\n",
       "    <tr>\n",
       "      <th>1</th>\n",
       "      <td>0</td>\n",
       "      <td>The worst card ever it’s lawsuit time</td>\n",
       "      <td>2019-06-04T19:53:28+0000</td>\n",
       "      <td>6</td>\n",
       "      <td>NaN</td>\n",
       "    </tr>\n",
       "    <tr>\n",
       "      <th>2</th>\n",
       "      <td>0</td>\n",
       "      <td>I think some needs to hear this. Over the year...</td>\n",
       "      <td>2019-05-14T03:28:34+0000</td>\n",
       "      <td>0</td>\n",
       "      <td>NaN</td>\n",
       "    </tr>\n",
       "    <tr>\n",
       "      <th>3</th>\n",
       "      <td>0</td>\n",
       "      <td>How long does it take to get refunded money, P...</td>\n",
       "      <td>2019-04-20T20:44:07+0000</td>\n",
       "      <td>1</td>\n",
       "      <td>NaN</td>\n",
       "    </tr>\n",
       "    <tr>\n",
       "      <th>10</th>\n",
       "      <td>0</td>\n",
       "      <td>REALLY? Recipes From Heaven</td>\n",
       "      <td>2019-03-15T22:37:37+0000</td>\n",
       "      <td>0</td>\n",
       "      <td>NaN</td>\n",
       "    </tr>\n",
       "  </tbody>\n",
       "</table>\n",
       "</div>"
      ],
      "text/plain": [
       "    is_reply                                    comment_message  \\\n",
       "0          1                                               Why?   \n",
       "1          0              The worst card ever it’s lawsuit time   \n",
       "2          0  I think some needs to hear this. Over the year...   \n",
       "3          0  How long does it take to get refunded money, P...   \n",
       "10         0                        REALLY? Recipes From Heaven   \n",
       "\n",
       "           comment_published  comment_like_count attachment_type  \n",
       "0   2019-06-18T00:08:26+0000                   0             NaN  \n",
       "1   2019-06-04T19:53:28+0000                   6             NaN  \n",
       "2   2019-05-14T03:28:34+0000                   0             NaN  \n",
       "3   2019-04-20T20:44:07+0000                   1             NaN  \n",
       "10  2019-03-15T22:37:37+0000                   0             NaN  "
      ]
     },
     "execution_count": 7,
     "metadata": {},
     "output_type": "execute_result"
    }
   ],
   "source": [
    "# To delete and drop URL comments\n",
    "df['comment_message'] = df['comment_message'].apply(delete_url)\n",
    "df = df.drop(df[df.comment_message == 'None'].index)\n",
    "df.head()"
   ]
  },
  {
   "cell_type": "markdown",
   "metadata": {},
   "source": [
    "## Save as comments_no_null.tsv"
   ]
  },
  {
   "cell_type": "code",
   "execution_count": 8,
   "metadata": {},
   "outputs": [],
   "source": [
    "df.to_csv('C:/Users/cherryb/Desktop/Personal Projects/Datasets/Telus - Fintech/cleaned/commentsCleaned_VSent-TBlob.tsv', sep='\\t')"
   ]
  }
 ],
 "metadata": {
  "kernelspec": {
   "display_name": "Python 3",
   "language": "python",
   "name": "python3"
  },
  "language_info": {
   "codemirror_mode": {
    "name": "ipython",
    "version": 3
   },
   "file_extension": ".py",
   "mimetype": "text/x-python",
   "name": "python",
   "nbconvert_exporter": "python",
   "pygments_lexer": "ipython3",
   "version": "3.7.1"
  }
 },
 "nbformat": 4,
 "nbformat_minor": 2
}
